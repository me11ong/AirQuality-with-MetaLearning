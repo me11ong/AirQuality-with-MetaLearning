{
 "cells": [
  {
   "cell_type": "code",
   "execution_count": 2,
   "metadata": {},
   "outputs": [],
   "source": [
    "import pandas as pd\n",
    "import numpy as np\n",
    "import seaborn as sns\n",
    "from matplotlib import font_manager\n",
    "import matplotlib.pyplot as plt\n",
    "import os\n",
    "import joblib\n",
    "from sklearn.preprocessing import MinMaxScaler\n",
    "from sklearn.model_selection import train_test_split\n",
    "import statsmodels.api as sm"
   ]
  },
  {
   "cell_type": "markdown",
   "metadata": {},
   "source": [
    "# 분 단위 데이터를 한시간 단위로 그룹핑"
   ]
  },
  {
   "cell_type": "code",
   "execution_count": 3,
   "metadata": {},
   "outputs": [],
   "source": [
    "def grouping(db_name,ms_name):\n",
    "    address=\"./RawData/\"+db_name+'/'+ms_name\n",
    "    saved_address=\"./RawData/\"+db_name+'/1hour/'+ms_name\n",
    "    \n",
    "    data=pd.read_csv(address)\n",
    "    data=pd.DataFrame(data)\n",
    "    \n",
    "    data=data.drop(['in_noise','in_pm01','in_pm25'],axis=1)\n",
    "    \n",
    "    data['time'] = pd.to_datetime(data['time'])\n",
    "    data.set_index('time', inplace=True)\n",
    "    \n",
    "    data_new = pd.DataFrame()\n",
    "    column=data.columns\n",
    "    \n",
    "    for i in range(len(column)):\n",
    "        what=column[i]\n",
    "        data_new[what]=data[what].resample(rule='1H').mean()\n",
    "    \n",
    "    data_new.to_csv(saved_address,header=True)\n",
    "    \n",
    "    return"
   ]
  },
  {
   "cell_type": "code",
   "execution_count": 4,
   "metadata": {},
   "outputs": [],
   "source": [
    "db_names=['air_indoor_도서관','air_indoor_중학교','air_indoor_체육시설','air_indoor_초등학교']\n",
    "\n",
    "for i in range(len(db_names)):\n",
    "    db_name=db_names[i]\n",
    "    ms_list=os.listdir('./RawData/'+db_name)\n",
    "    for j in range(len(ms_list)):\n",
    "        ms_name=ms_list[j]\n",
    "        if(ms_name.endswith(\".csv\")):\n",
    "            grouping(db_name,ms_name)"
   ]
  },
  {
   "cell_type": "markdown",
   "metadata": {},
   "source": [
    "# 이상치 처리 기준 산정"
   ]
  },
  {
   "cell_type": "markdown",
   "metadata": {},
   "source": [
    "## Grouping한 csv파일들 이름 load"
   ]
  },
  {
   "cell_type": "code",
   "execution_count": 5,
   "metadata": {},
   "outputs": [],
   "source": [
    "csv_list1=[]\n",
    "csv_list2=[]\n",
    "csv_list3=[]\n",
    "csv_list4=[]\n",
    "\n",
    "def get_csv_list(db_name,csv_list):\n",
    "    list1=os.listdir(\"./RawData/\"+db_name+\"/1hour\")\n",
    "    for i in range(len(list1)):\n",
    "        list1[i]=\"./RawData/\"+db_name+\"/1hour/\"+list1[i]\n",
    "    csv_list+=list1\n",
    "    return csv_list"
   ]
  },
  {
   "cell_type": "code",
   "execution_count": 6,
   "metadata": {},
   "outputs": [],
   "source": [
    "csv_list1=get_csv_list('air_indoor_도서관',csv_list1)\n",
    "csv_list2=get_csv_list('air_indoor_중학교',csv_list2)\n",
    "csv_list3=get_csv_list('air_indoor_체육시설',csv_list3)\n",
    "csv_list4=get_csv_list('air_indoor_초등학교',csv_list4)"
   ]
  },
  {
   "cell_type": "markdown",
   "metadata": {},
   "source": [
    "## 시설별 데이터를 하나의 파일로 병합"
   ]
  },
  {
   "cell_type": "code",
   "execution_count": 7,
   "metadata": {},
   "outputs": [],
   "source": [
    "def concat_all(db_name,csv_list):\n",
    "    data=pd.DataFrame()\n",
    "    \n",
    "    for csv_file in csv_list:\n",
    "        file=pd.read_csv(csv_file)\n",
    "        file=pd.DataFrame(file)\n",
    "        \n",
    "        data=pd.concat([data,file])\n",
    "        \n",
    "    data.to_csv(\"./RawData/All_Grouped({:s}).csv\".format(db_name),index=False)\n",
    "    \n",
    "    return data.columns"
   ]
  },
  {
   "cell_type": "code",
   "execution_count": 8,
   "metadata": {},
   "outputs": [],
   "source": [
    "columms1=concat_all('air_indoor_도서관',csv_list1)\n",
    "columms2=concat_all('air_indoor_중학교',csv_list2)\n",
    "columms3=concat_all('air_indoor_체육시설',csv_list3)\n",
    "columms4=concat_all('air_indoor_초등학교',csv_list4)"
   ]
  },
  {
   "cell_type": "markdown",
   "metadata": {},
   "source": [
    "## 병합된 파일로부터 사분위 범위의 최소/최대값 계산"
   ]
  },
  {
   "cell_type": "code",
   "execution_count": 9,
   "metadata": {},
   "outputs": [],
   "source": [
    "in_co2_upper=[]\n",
    "in_pm10_upper=[]\n",
    "in_voc_upper=[]"
   ]
  },
  {
   "cell_type": "code",
   "execution_count": 10,
   "metadata": {},
   "outputs": [],
   "source": [
    "font_path = \"./NanumGothicBold.ttf\"\n",
    "fontprop = font_manager.FontProperties(fname=font_path)\n",
    "\n",
    "def get_boxplot_all(db_name,what,list):\n",
    "    address = \"./RawData/All_Grouped({:s}).csv\".format(db_name)\n",
    "    file = pd.read_csv(address)\n",
    "\n",
    "    name = pd.to_numeric(file[what], errors='coerce')\n",
    "\n",
    "    \n",
    "    # Calculate Q1, Q3, and IQR\n",
    "    Q1 = np.percentile(name.dropna(), 25)\n",
    "    Q3 = np.percentile(name.dropna(), 75)\n",
    "    IQR = Q3 - Q1\n",
    "\n",
    "    # Calculate lower and upper bound\n",
    "    lower_bound = Q1 - 1.5 * IQR\n",
    "    upper_bound = Q3 + 1.5 * IQR\n",
    "\n",
    "    fig, ax = plt.subplots(figsize=(24, 24))\n",
    "    sns.set_theme(style='whitegrid')\n",
    "    sns.boxplot(data=name.dropna(), ax=ax)\n",
    "    ax.set_title('The Distribution of ' + what, fontproperties=fontprop,fontsize=30,fontweight=1000)\n",
    "    #ax.set_ylim(-10, 100)\n",
    "    #plt.yticks((-10,0,10,20,30,40,50,60,70,80,90,100),fontsize=24,fontweight=\"bold\")\n",
    "    \n",
    "    # Add text for lower and upper bound\n",
    "    ax.text(0.02, lower_bound, f'Lower Bound: {lower_bound:.2f}', color='red',fontsize=36,fontweight=\"bold\")\n",
    "    ax.text(0.02, upper_bound, f'Upper Bound: {upper_bound:.2f}', color='red',fontsize=36,fontweight=\"bold\")\n",
    "    \n",
    "    list.append(upper_bound)\n",
    "    \n",
    "    plt.savefig(\"./IQR/IQR({:s},{:s}).png\".format(db_name,what))\n",
    "    plt.close()\n",
    "    \n",
    "    return "
   ]
  },
  {
   "cell_type": "code",
   "execution_count": 11,
   "metadata": {},
   "outputs": [],
   "source": [
    "db_names=['air_indoor_도서관','air_indoor_중학교','air_indoor_체육시설','air_indoor_초등학교']\n",
    "whats=['in_co2', 'in_pm10',  'in_voc']\n",
    "\n",
    "list_upper=[in_co2_upper,in_pm10_upper,in_voc_upper]\n",
    "\n",
    "for db_name in db_names:\n",
    "    i=0\n",
    "    for what in whats:\n",
    "        get_boxplot_all(db_name,what,list_upper[i])\n",
    "        i+=1"
   ]
  },
  {
   "cell_type": "markdown",
   "metadata": {},
   "source": [
    "#### 결과 : in_co2(811.33), in_pm10(60.84), in_voc(1665.09)"
   ]
  },
  {
   "cell_type": "code",
   "execution_count": 12,
   "metadata": {},
   "outputs": [
    {
     "name": "stdout",
     "output_type": "stream",
     "text": [
      "in_co2 :  811.3333333333334\n",
      "in_pm10 :  60.83527542372882\n",
      "in_voc :  1665.0862499999998\n"
     ]
    }
   ],
   "source": [
    "print(\"in_co2 : \",max(in_co2_upper))\n",
    "print(\"in_pm10 : \",max(in_pm10_upper))\n",
    "print(\"in_voc : \",max(in_voc_upper))"
   ]
  },
  {
   "cell_type": "markdown",
   "metadata": {},
   "source": [
    "# 이상치와 누락된 시간행 처리"
   ]
  },
  {
   "cell_type": "markdown",
   "metadata": {},
   "source": [
    "## Grouping한 csv파일들 경로 load"
   ]
  },
  {
   "cell_type": "code",
   "execution_count": 13,
   "metadata": {},
   "outputs": [],
   "source": [
    "csv_list=[]\n",
    "new_address=[]\n",
    "\n",
    "def get_csv_list(db_name,csv_list,new_address):\n",
    "    list1=os.listdir(\"./RawData/{:s}/1hour\".format(db_name))\n",
    "    for i in range(len(list1)):\n",
    "        csv_list.append(\"./RawData/{:s}/1hour/{:s}\".format(db_name,list1[i]))\n",
    "        new_address.append(\"./Grouped_Data/{:s}/{:s}/{:s}\".format(db_name,'Missing_Value(All)',list1[i]))\n",
    "\n",
    "    return csv_list,new_address"
   ]
  },
  {
   "cell_type": "code",
   "execution_count": 14,
   "metadata": {},
   "outputs": [
    {
     "data": {
      "text/plain": [
       "(['./RawData/air_indoor_도서관/1hour/ICW0W2000087.csv',\n",
       "  './RawData/air_indoor_도서관/1hour/ICW0W2000088.csv',\n",
       "  './RawData/air_indoor_도서관/1hour/ICW0W2000089.csv',\n",
       "  './RawData/air_indoor_도서관/1hour/ICW0W2000094.csv',\n",
       "  './RawData/air_indoor_도서관/1hour/ICW0W2000095.csv',\n",
       "  './RawData/air_indoor_도서관/1hour/ICW0W2000096.csv',\n",
       "  './RawData/air_indoor_도서관/1hour/ICW0W2000097.csv',\n",
       "  './RawData/air_indoor_도서관/1hour/ICW0W2000098.csv',\n",
       "  './RawData/air_indoor_도서관/1hour/ICW0W2000099.csv',\n",
       "  './RawData/air_indoor_도서관/1hour/ICW0W2000100.csv',\n",
       "  './RawData/air_indoor_도서관/1hour/ICW0W2000101.csv',\n",
       "  './RawData/air_indoor_도서관/1hour/ICW0W2000102.csv',\n",
       "  './RawData/air_indoor_도서관/1hour/ICW0W2000108.csv',\n",
       "  './RawData/air_indoor_도서관/1hour/ICW0W2000128.csv',\n",
       "  './RawData/air_indoor_도서관/1hour/ICW0W2000129.csv',\n",
       "  './RawData/air_indoor_중학교/1hour/ICW0W2000010.csv',\n",
       "  './RawData/air_indoor_중학교/1hour/ICW0W2000011.csv',\n",
       "  './RawData/air_indoor_중학교/1hour/ICW0W2000013.csv',\n",
       "  './RawData/air_indoor_중학교/1hour/ICW0W2000014.csv',\n",
       "  './RawData/air_indoor_중학교/1hour/ICW0W2000015.csv',\n",
       "  './RawData/air_indoor_중학교/1hour/ICW0W2000018.csv',\n",
       "  './RawData/air_indoor_중학교/1hour/ICW0W2000019.csv',\n",
       "  './RawData/air_indoor_중학교/1hour/ICW0W2000020.csv',\n",
       "  './RawData/air_indoor_체육시설/1hour/ICW0W2001036.csv',\n",
       "  './RawData/air_indoor_체육시설/1hour/ICW0W2001037.csv',\n",
       "  './RawData/air_indoor_체육시설/1hour/ICW0W2001043.csv',\n",
       "  './RawData/air_indoor_체육시설/1hour/ICW0W2001044.csv',\n",
       "  './RawData/air_indoor_초등학교/1hour/ICW0W2000022.csv',\n",
       "  './RawData/air_indoor_초등학교/1hour/ICW0W2000023.csv',\n",
       "  './RawData/air_indoor_초등학교/1hour/ICW0W2000024.csv',\n",
       "  './RawData/air_indoor_초등학교/1hour/ICW0W2000025.csv',\n",
       "  './RawData/air_indoor_초등학교/1hour/ICW0W2000031.csv',\n",
       "  './RawData/air_indoor_초등학교/1hour/ICW0W2000034.csv'],\n",
       " ['./Grouped_Data/air_indoor_도서관/Missing_Value(All)/ICW0W2000087.csv',\n",
       "  './Grouped_Data/air_indoor_도서관/Missing_Value(All)/ICW0W2000088.csv',\n",
       "  './Grouped_Data/air_indoor_도서관/Missing_Value(All)/ICW0W2000089.csv',\n",
       "  './Grouped_Data/air_indoor_도서관/Missing_Value(All)/ICW0W2000094.csv',\n",
       "  './Grouped_Data/air_indoor_도서관/Missing_Value(All)/ICW0W2000095.csv',\n",
       "  './Grouped_Data/air_indoor_도서관/Missing_Value(All)/ICW0W2000096.csv',\n",
       "  './Grouped_Data/air_indoor_도서관/Missing_Value(All)/ICW0W2000097.csv',\n",
       "  './Grouped_Data/air_indoor_도서관/Missing_Value(All)/ICW0W2000098.csv',\n",
       "  './Grouped_Data/air_indoor_도서관/Missing_Value(All)/ICW0W2000099.csv',\n",
       "  './Grouped_Data/air_indoor_도서관/Missing_Value(All)/ICW0W2000100.csv',\n",
       "  './Grouped_Data/air_indoor_도서관/Missing_Value(All)/ICW0W2000101.csv',\n",
       "  './Grouped_Data/air_indoor_도서관/Missing_Value(All)/ICW0W2000102.csv',\n",
       "  './Grouped_Data/air_indoor_도서관/Missing_Value(All)/ICW0W2000108.csv',\n",
       "  './Grouped_Data/air_indoor_도서관/Missing_Value(All)/ICW0W2000128.csv',\n",
       "  './Grouped_Data/air_indoor_도서관/Missing_Value(All)/ICW0W2000129.csv',\n",
       "  './Grouped_Data/air_indoor_중학교/Missing_Value(All)/ICW0W2000010.csv',\n",
       "  './Grouped_Data/air_indoor_중학교/Missing_Value(All)/ICW0W2000011.csv',\n",
       "  './Grouped_Data/air_indoor_중학교/Missing_Value(All)/ICW0W2000013.csv',\n",
       "  './Grouped_Data/air_indoor_중학교/Missing_Value(All)/ICW0W2000014.csv',\n",
       "  './Grouped_Data/air_indoor_중학교/Missing_Value(All)/ICW0W2000015.csv',\n",
       "  './Grouped_Data/air_indoor_중학교/Missing_Value(All)/ICW0W2000018.csv',\n",
       "  './Grouped_Data/air_indoor_중학교/Missing_Value(All)/ICW0W2000019.csv',\n",
       "  './Grouped_Data/air_indoor_중학교/Missing_Value(All)/ICW0W2000020.csv',\n",
       "  './Grouped_Data/air_indoor_체육시설/Missing_Value(All)/ICW0W2001036.csv',\n",
       "  './Grouped_Data/air_indoor_체육시설/Missing_Value(All)/ICW0W2001037.csv',\n",
       "  './Grouped_Data/air_indoor_체육시설/Missing_Value(All)/ICW0W2001043.csv',\n",
       "  './Grouped_Data/air_indoor_체육시설/Missing_Value(All)/ICW0W2001044.csv',\n",
       "  './Grouped_Data/air_indoor_초등학교/Missing_Value(All)/ICW0W2000022.csv',\n",
       "  './Grouped_Data/air_indoor_초등학교/Missing_Value(All)/ICW0W2000023.csv',\n",
       "  './Grouped_Data/air_indoor_초등학교/Missing_Value(All)/ICW0W2000024.csv',\n",
       "  './Grouped_Data/air_indoor_초등학교/Missing_Value(All)/ICW0W2000025.csv',\n",
       "  './Grouped_Data/air_indoor_초등학교/Missing_Value(All)/ICW0W2000031.csv',\n",
       "  './Grouped_Data/air_indoor_초등학교/Missing_Value(All)/ICW0W2000034.csv'])"
      ]
     },
     "execution_count": 14,
     "metadata": {},
     "output_type": "execute_result"
    }
   ],
   "source": [
    "get_csv_list('air_indoor_도서관',csv_list,new_address)\n",
    "get_csv_list('air_indoor_중학교',csv_list,new_address)\n",
    "get_csv_list('air_indoor_체육시설',csv_list,new_address)\n",
    "get_csv_list('air_indoor_초등학교',csv_list,new_address)"
   ]
  },
  {
   "cell_type": "markdown",
   "metadata": {},
   "source": [
    "## 이상치를 none(결측치)로 처리하기"
   ]
  },
  {
   "cell_type": "code",
   "execution_count": 15,
   "metadata": {},
   "outputs": [],
   "source": [
    "def convert_to_None(address1,address2,whats,max_points):\n",
    "    \n",
    "    file=pd.read_csv(address1)\n",
    "    \n",
    "    for what, Max_Point in zip(whats, max_points):\n",
    "        file[what] = pd.to_numeric(file[what], errors='coerce')\n",
    "        file.loc[(file[what] > Max_Point) | (file[what] <= 0), what] = None\n",
    "    \n",
    "    file.to_csv(address2, index=False)\n",
    "    \n",
    "    return"
   ]
  },
  {
   "cell_type": "code",
   "execution_count": 16,
   "metadata": {},
   "outputs": [],
   "source": [
    "whats = ['in_co2', 'in_pm10', 'in_voc']\n",
    "max_points = [float(max(in_co2_upper)), float(max(in_pm10_upper)), float(max(in_voc_upper))]\n",
    "\n",
    "for address1, address2 in zip(csv_list, new_address):\n",
    "    convert_to_None(address1, address2, whats, max_points)"
   ]
  },
  {
   "cell_type": "markdown",
   "metadata": {},
   "source": [
    "## 누락된 시간행 탐색하는 함수"
   ]
  },
  {
   "cell_type": "code",
   "execution_count": 17,
   "metadata": {},
   "outputs": [],
   "source": [
    "from dateutil.parser import parse\n",
    "\n",
    "def Nan_time_check(address):\n",
    "    file = pd.read_csv(address)\n",
    "\n",
    "    start_time=file['time'][0]\n",
    "    end_time=file['time'][len(file)-1]\n",
    "    \n",
    "    # 'time' 열을 datetime 형식으로 변환\n",
    "    file['time'] = file['time'].apply(lambda x: parse(x))\n",
    "\n",
    "    start_time = parse(start_time)\n",
    "    end_time = parse(end_time)\n",
    "\n",
    "    expected_rows = pd.DataFrame(pd.date_range(start=start_time, end=end_time, freq='1H'), columns=['time'])\n",
    "\n",
    "    missing_rows = expected_rows[~expected_rows['time'].isin(file['time'])]\n",
    "\n",
    "\n",
    "    return missing_rows"
   ]
  },
  {
   "cell_type": "markdown",
   "metadata": {},
   "source": [
    "## 누락된 시간행 채워넣는 함수"
   ]
  },
  {
   "cell_type": "code",
   "execution_count": 18,
   "metadata": {},
   "outputs": [],
   "source": [
    "def merge_and_sort_files(address):\n",
    "    \n",
    "    file_Nan = pd.read_csv(address)\n",
    "    file_Nan = pd.DataFrame(file_Nan)\n",
    "    \n",
    "    missing_rows=Nan_time_check(address)\n",
    "    missing_rows=pd.DataFrame(missing_rows)\n",
    "\n",
    "    missing_rows['time']=None\n",
    "    missing_rows['in_co2']=None\n",
    "    missing_rows['in_humi']=None\n",
    "    missing_rows['in_pm10']=None\n",
    "    missing_rows['in_temp']=None\n",
    "    missing_rows['in_voc']=None\n",
    "    \n",
    "    merged_file = pd.concat([file_Nan, missing_rows])\n",
    "    merged_file['time'] = pd.to_datetime(merged_file['time'])\n",
    "    merged_file.sort_values('time', inplace=True)\n",
    "    merged_file.to_csv(address, index=False, header=True)\n",
    "    \n",
    "    return"
   ]
  },
  {
   "cell_type": "code",
   "execution_count": 19,
   "metadata": {},
   "outputs": [],
   "source": [
    "for address in new_address:\n",
    "    merge_and_sort_files(address)"
   ]
  },
  {
   "cell_type": "markdown",
   "metadata": {},
   "source": [
    "# 결측치에 대해 선형보간 적용"
   ]
  },
  {
   "cell_type": "markdown",
   "metadata": {},
   "source": [
    "## Interpolation 적용할 파일들 경로 load"
   ]
  },
  {
   "cell_type": "code",
   "execution_count": 20,
   "metadata": {},
   "outputs": [],
   "source": [
    "csv_list=[]\n",
    "new_address=[]\n",
    "\n",
    "def get_csv_list(db_name,csv_list,new_address):\n",
    "    list1=os.listdir(\"./Grouped_Data/{:s}/Missing_Value(All)/\".format(db_name))\n",
    "    \n",
    "    for file in list1:\n",
    "        csv_list.append(\"./Grouped_Data/{:s}/Missing_Value(All)/{:s}\".format(db_name,file))\n",
    "        new_address.append(\"./Grouped_Data/{:s}/{:s}/{:s}\".format(db_name,'Interpolated',file))\n",
    "\n",
    "    return csv_list,new_address"
   ]
  },
  {
   "cell_type": "code",
   "execution_count": 21,
   "metadata": {},
   "outputs": [
    {
     "data": {
      "text/plain": [
       "(['./Grouped_Data/air_indoor_도서관/Missing_Value(All)/ICW0W2000087.csv',\n",
       "  './Grouped_Data/air_indoor_도서관/Missing_Value(All)/ICW0W2000088.csv',\n",
       "  './Grouped_Data/air_indoor_도서관/Missing_Value(All)/ICW0W2000089.csv',\n",
       "  './Grouped_Data/air_indoor_도서관/Missing_Value(All)/ICW0W2000094.csv',\n",
       "  './Grouped_Data/air_indoor_도서관/Missing_Value(All)/ICW0W2000095.csv',\n",
       "  './Grouped_Data/air_indoor_도서관/Missing_Value(All)/ICW0W2000096.csv',\n",
       "  './Grouped_Data/air_indoor_도서관/Missing_Value(All)/ICW0W2000097.csv',\n",
       "  './Grouped_Data/air_indoor_도서관/Missing_Value(All)/ICW0W2000098.csv',\n",
       "  './Grouped_Data/air_indoor_도서관/Missing_Value(All)/ICW0W2000099.csv',\n",
       "  './Grouped_Data/air_indoor_도서관/Missing_Value(All)/ICW0W2000100.csv',\n",
       "  './Grouped_Data/air_indoor_도서관/Missing_Value(All)/ICW0W2000101.csv',\n",
       "  './Grouped_Data/air_indoor_도서관/Missing_Value(All)/ICW0W2000102.csv',\n",
       "  './Grouped_Data/air_indoor_도서관/Missing_Value(All)/ICW0W2000108.csv',\n",
       "  './Grouped_Data/air_indoor_도서관/Missing_Value(All)/ICW0W2000128.csv',\n",
       "  './Grouped_Data/air_indoor_도서관/Missing_Value(All)/ICW0W2000129.csv',\n",
       "  './Grouped_Data/air_indoor_중학교/Missing_Value(All)/ICW0W2000010.csv',\n",
       "  './Grouped_Data/air_indoor_중학교/Missing_Value(All)/ICW0W2000011.csv',\n",
       "  './Grouped_Data/air_indoor_중학교/Missing_Value(All)/ICW0W2000013.csv',\n",
       "  './Grouped_Data/air_indoor_중학교/Missing_Value(All)/ICW0W2000014.csv',\n",
       "  './Grouped_Data/air_indoor_중학교/Missing_Value(All)/ICW0W2000015.csv',\n",
       "  './Grouped_Data/air_indoor_중학교/Missing_Value(All)/ICW0W2000018.csv',\n",
       "  './Grouped_Data/air_indoor_중학교/Missing_Value(All)/ICW0W2000019.csv',\n",
       "  './Grouped_Data/air_indoor_중학교/Missing_Value(All)/ICW0W2000020.csv',\n",
       "  './Grouped_Data/air_indoor_체육시설/Missing_Value(All)/ICW0W2001036.csv',\n",
       "  './Grouped_Data/air_indoor_체육시설/Missing_Value(All)/ICW0W2001037.csv',\n",
       "  './Grouped_Data/air_indoor_체육시설/Missing_Value(All)/ICW0W2001043.csv',\n",
       "  './Grouped_Data/air_indoor_체육시설/Missing_Value(All)/ICW0W2001044.csv',\n",
       "  './Grouped_Data/air_indoor_초등학교/Missing_Value(All)/ICW0W2000022.csv',\n",
       "  './Grouped_Data/air_indoor_초등학교/Missing_Value(All)/ICW0W2000023.csv',\n",
       "  './Grouped_Data/air_indoor_초등학교/Missing_Value(All)/ICW0W2000024.csv',\n",
       "  './Grouped_Data/air_indoor_초등학교/Missing_Value(All)/ICW0W2000025.csv',\n",
       "  './Grouped_Data/air_indoor_초등학교/Missing_Value(All)/ICW0W2000031.csv',\n",
       "  './Grouped_Data/air_indoor_초등학교/Missing_Value(All)/ICW0W2000034.csv'],\n",
       " ['./Grouped_Data/air_indoor_도서관/Interpolated/ICW0W2000087.csv',\n",
       "  './Grouped_Data/air_indoor_도서관/Interpolated/ICW0W2000088.csv',\n",
       "  './Grouped_Data/air_indoor_도서관/Interpolated/ICW0W2000089.csv',\n",
       "  './Grouped_Data/air_indoor_도서관/Interpolated/ICW0W2000094.csv',\n",
       "  './Grouped_Data/air_indoor_도서관/Interpolated/ICW0W2000095.csv',\n",
       "  './Grouped_Data/air_indoor_도서관/Interpolated/ICW0W2000096.csv',\n",
       "  './Grouped_Data/air_indoor_도서관/Interpolated/ICW0W2000097.csv',\n",
       "  './Grouped_Data/air_indoor_도서관/Interpolated/ICW0W2000098.csv',\n",
       "  './Grouped_Data/air_indoor_도서관/Interpolated/ICW0W2000099.csv',\n",
       "  './Grouped_Data/air_indoor_도서관/Interpolated/ICW0W2000100.csv',\n",
       "  './Grouped_Data/air_indoor_도서관/Interpolated/ICW0W2000101.csv',\n",
       "  './Grouped_Data/air_indoor_도서관/Interpolated/ICW0W2000102.csv',\n",
       "  './Grouped_Data/air_indoor_도서관/Interpolated/ICW0W2000108.csv',\n",
       "  './Grouped_Data/air_indoor_도서관/Interpolated/ICW0W2000128.csv',\n",
       "  './Grouped_Data/air_indoor_도서관/Interpolated/ICW0W2000129.csv',\n",
       "  './Grouped_Data/air_indoor_중학교/Interpolated/ICW0W2000010.csv',\n",
       "  './Grouped_Data/air_indoor_중학교/Interpolated/ICW0W2000011.csv',\n",
       "  './Grouped_Data/air_indoor_중학교/Interpolated/ICW0W2000013.csv',\n",
       "  './Grouped_Data/air_indoor_중학교/Interpolated/ICW0W2000014.csv',\n",
       "  './Grouped_Data/air_indoor_중학교/Interpolated/ICW0W2000015.csv',\n",
       "  './Grouped_Data/air_indoor_중학교/Interpolated/ICW0W2000018.csv',\n",
       "  './Grouped_Data/air_indoor_중학교/Interpolated/ICW0W2000019.csv',\n",
       "  './Grouped_Data/air_indoor_중학교/Interpolated/ICW0W2000020.csv',\n",
       "  './Grouped_Data/air_indoor_체육시설/Interpolated/ICW0W2001036.csv',\n",
       "  './Grouped_Data/air_indoor_체육시설/Interpolated/ICW0W2001037.csv',\n",
       "  './Grouped_Data/air_indoor_체육시설/Interpolated/ICW0W2001043.csv',\n",
       "  './Grouped_Data/air_indoor_체육시설/Interpolated/ICW0W2001044.csv',\n",
       "  './Grouped_Data/air_indoor_초등학교/Interpolated/ICW0W2000022.csv',\n",
       "  './Grouped_Data/air_indoor_초등학교/Interpolated/ICW0W2000023.csv',\n",
       "  './Grouped_Data/air_indoor_초등학교/Interpolated/ICW0W2000024.csv',\n",
       "  './Grouped_Data/air_indoor_초등학교/Interpolated/ICW0W2000025.csv',\n",
       "  './Grouped_Data/air_indoor_초등학교/Interpolated/ICW0W2000031.csv',\n",
       "  './Grouped_Data/air_indoor_초등학교/Interpolated/ICW0W2000034.csv'])"
      ]
     },
     "execution_count": 21,
     "metadata": {},
     "output_type": "execute_result"
    }
   ],
   "source": [
    "get_csv_list('air_indoor_도서관',csv_list,new_address)\n",
    "get_csv_list('air_indoor_중학교',csv_list,new_address)\n",
    "get_csv_list('air_indoor_체육시설',csv_list,new_address)\n",
    "get_csv_list('air_indoor_초등학교',csv_list,new_address)"
   ]
  },
  {
   "cell_type": "markdown",
   "metadata": {},
   "source": [
    "## Linear Interpolation 적용"
   ]
  },
  {
   "cell_type": "code",
   "execution_count": 22,
   "metadata": {},
   "outputs": [],
   "source": [
    "def Nan_interpolation(csv_file,new_directory):\n",
    "    \n",
    "    file = pd.read_csv(csv_file)\n",
    "\n",
    "    in_co2_values = pd.to_numeric(file['in_co2'])\n",
    "    in_humi_values = pd.to_numeric(file['in_humi'])\n",
    "    in_pm10_values = pd.to_numeric(file['in_pm10'])\n",
    "    in_temp_values = pd.to_numeric(file['in_temp'])\n",
    "    in_voc_values = pd.to_numeric(file['in_voc'])\n",
    "\n",
    "    file['in_co2']=in_co2_values.interpolate(method='linear', limit_direction='both')\n",
    "    file['in_humi']=in_humi_values.interpolate(method='linear', limit_direction='both')\n",
    "    file['in_pm10']=in_pm10_values.interpolate(method='linear', limit_direction='both')\n",
    "    file['in_temp']=in_temp_values.interpolate(method='linear', limit_direction='both')\n",
    "    file['in_voc']=in_voc_values.interpolate(method='linear', limit_direction='both')\n",
    "    \n",
    "    file.to_csv(new_directory, index=False)\n",
    "\n",
    "    return"
   ]
  },
  {
   "cell_type": "code",
   "execution_count": 23,
   "metadata": {},
   "outputs": [],
   "source": [
    "for csv_file, new_directory in zip(csv_list, new_address):\n",
    "    Nan_interpolation(csv_file,new_directory)"
   ]
  },
  {
   "cell_type": "markdown",
   "metadata": {},
   "source": [
    "# 한시간 후의 PM10값을 Y값으로 Mapping"
   ]
  },
  {
   "cell_type": "markdown",
   "metadata": {},
   "source": [
    "## 적용할 파일의 경로 load"
   ]
  },
  {
   "cell_type": "code",
   "execution_count": 24,
   "metadata": {},
   "outputs": [],
   "source": [
    "csv_list=[]\n",
    "new_addresses=[]\n",
    "\n",
    "def get_csv_list(db_name,csv_list,new_addresses):\n",
    "    list1=os.listdir(\"./Grouped_Data/{:s}/Interpolated/\".format(db_name))\n",
    "    \n",
    "    for file in list1:\n",
    "        csv_list.append(\"./Grouped_Data/{:s}/Interpolated/{:s}\".format(db_name,file))\n",
    "        new_addresses.append(\"./Grouped_Data/{:s}/Mapped/{:s}\".format(db_name,file))\n",
    "        \n",
    "    return csv_list,new_addresses"
   ]
  },
  {
   "cell_type": "code",
   "execution_count": 25,
   "metadata": {},
   "outputs": [
    {
     "data": {
      "text/plain": [
       "(['./Grouped_Data/air_indoor_도서관/Interpolated/ICW0W2000087.csv',\n",
       "  './Grouped_Data/air_indoor_도서관/Interpolated/ICW0W2000088.csv',\n",
       "  './Grouped_Data/air_indoor_도서관/Interpolated/ICW0W2000089.csv',\n",
       "  './Grouped_Data/air_indoor_도서관/Interpolated/ICW0W2000094.csv',\n",
       "  './Grouped_Data/air_indoor_도서관/Interpolated/ICW0W2000095.csv',\n",
       "  './Grouped_Data/air_indoor_도서관/Interpolated/ICW0W2000096.csv',\n",
       "  './Grouped_Data/air_indoor_도서관/Interpolated/ICW0W2000097.csv',\n",
       "  './Grouped_Data/air_indoor_도서관/Interpolated/ICW0W2000098.csv',\n",
       "  './Grouped_Data/air_indoor_도서관/Interpolated/ICW0W2000099.csv',\n",
       "  './Grouped_Data/air_indoor_도서관/Interpolated/ICW0W2000100.csv',\n",
       "  './Grouped_Data/air_indoor_도서관/Interpolated/ICW0W2000101.csv',\n",
       "  './Grouped_Data/air_indoor_도서관/Interpolated/ICW0W2000102.csv',\n",
       "  './Grouped_Data/air_indoor_도서관/Interpolated/ICW0W2000108.csv',\n",
       "  './Grouped_Data/air_indoor_도서관/Interpolated/ICW0W2000128.csv',\n",
       "  './Grouped_Data/air_indoor_도서관/Interpolated/ICW0W2000129.csv',\n",
       "  './Grouped_Data/air_indoor_중학교/Interpolated/ICW0W2000010.csv',\n",
       "  './Grouped_Data/air_indoor_중학교/Interpolated/ICW0W2000011.csv',\n",
       "  './Grouped_Data/air_indoor_중학교/Interpolated/ICW0W2000013.csv',\n",
       "  './Grouped_Data/air_indoor_중학교/Interpolated/ICW0W2000014.csv',\n",
       "  './Grouped_Data/air_indoor_중학교/Interpolated/ICW0W2000015.csv',\n",
       "  './Grouped_Data/air_indoor_중학교/Interpolated/ICW0W2000018.csv',\n",
       "  './Grouped_Data/air_indoor_중학교/Interpolated/ICW0W2000019.csv',\n",
       "  './Grouped_Data/air_indoor_중학교/Interpolated/ICW0W2000020.csv',\n",
       "  './Grouped_Data/air_indoor_체육시설/Interpolated/ICW0W2001036.csv',\n",
       "  './Grouped_Data/air_indoor_체육시설/Interpolated/ICW0W2001037.csv',\n",
       "  './Grouped_Data/air_indoor_체육시설/Interpolated/ICW0W2001043.csv',\n",
       "  './Grouped_Data/air_indoor_체육시설/Interpolated/ICW0W2001044.csv',\n",
       "  './Grouped_Data/air_indoor_초등학교/Interpolated/ICW0W2000022.csv',\n",
       "  './Grouped_Data/air_indoor_초등학교/Interpolated/ICW0W2000023.csv',\n",
       "  './Grouped_Data/air_indoor_초등학교/Interpolated/ICW0W2000024.csv',\n",
       "  './Grouped_Data/air_indoor_초등학교/Interpolated/ICW0W2000025.csv',\n",
       "  './Grouped_Data/air_indoor_초등학교/Interpolated/ICW0W2000031.csv',\n",
       "  './Grouped_Data/air_indoor_초등학교/Interpolated/ICW0W2000034.csv'],\n",
       " ['./Grouped_Data/air_indoor_도서관/Mapped/ICW0W2000087.csv',\n",
       "  './Grouped_Data/air_indoor_도서관/Mapped/ICW0W2000088.csv',\n",
       "  './Grouped_Data/air_indoor_도서관/Mapped/ICW0W2000089.csv',\n",
       "  './Grouped_Data/air_indoor_도서관/Mapped/ICW0W2000094.csv',\n",
       "  './Grouped_Data/air_indoor_도서관/Mapped/ICW0W2000095.csv',\n",
       "  './Grouped_Data/air_indoor_도서관/Mapped/ICW0W2000096.csv',\n",
       "  './Grouped_Data/air_indoor_도서관/Mapped/ICW0W2000097.csv',\n",
       "  './Grouped_Data/air_indoor_도서관/Mapped/ICW0W2000098.csv',\n",
       "  './Grouped_Data/air_indoor_도서관/Mapped/ICW0W2000099.csv',\n",
       "  './Grouped_Data/air_indoor_도서관/Mapped/ICW0W2000100.csv',\n",
       "  './Grouped_Data/air_indoor_도서관/Mapped/ICW0W2000101.csv',\n",
       "  './Grouped_Data/air_indoor_도서관/Mapped/ICW0W2000102.csv',\n",
       "  './Grouped_Data/air_indoor_도서관/Mapped/ICW0W2000108.csv',\n",
       "  './Grouped_Data/air_indoor_도서관/Mapped/ICW0W2000128.csv',\n",
       "  './Grouped_Data/air_indoor_도서관/Mapped/ICW0W2000129.csv',\n",
       "  './Grouped_Data/air_indoor_중학교/Mapped/ICW0W2000010.csv',\n",
       "  './Grouped_Data/air_indoor_중학교/Mapped/ICW0W2000011.csv',\n",
       "  './Grouped_Data/air_indoor_중학교/Mapped/ICW0W2000013.csv',\n",
       "  './Grouped_Data/air_indoor_중학교/Mapped/ICW0W2000014.csv',\n",
       "  './Grouped_Data/air_indoor_중학교/Mapped/ICW0W2000015.csv',\n",
       "  './Grouped_Data/air_indoor_중학교/Mapped/ICW0W2000018.csv',\n",
       "  './Grouped_Data/air_indoor_중학교/Mapped/ICW0W2000019.csv',\n",
       "  './Grouped_Data/air_indoor_중학교/Mapped/ICW0W2000020.csv',\n",
       "  './Grouped_Data/air_indoor_체육시설/Mapped/ICW0W2001036.csv',\n",
       "  './Grouped_Data/air_indoor_체육시설/Mapped/ICW0W2001037.csv',\n",
       "  './Grouped_Data/air_indoor_체육시설/Mapped/ICW0W2001043.csv',\n",
       "  './Grouped_Data/air_indoor_체육시설/Mapped/ICW0W2001044.csv',\n",
       "  './Grouped_Data/air_indoor_초등학교/Mapped/ICW0W2000022.csv',\n",
       "  './Grouped_Data/air_indoor_초등학교/Mapped/ICW0W2000023.csv',\n",
       "  './Grouped_Data/air_indoor_초등학교/Mapped/ICW0W2000024.csv',\n",
       "  './Grouped_Data/air_indoor_초등학교/Mapped/ICW0W2000025.csv',\n",
       "  './Grouped_Data/air_indoor_초등학교/Mapped/ICW0W2000031.csv',\n",
       "  './Grouped_Data/air_indoor_초등학교/Mapped/ICW0W2000034.csv'])"
      ]
     },
     "execution_count": 25,
     "metadata": {},
     "output_type": "execute_result"
    }
   ],
   "source": [
    "get_csv_list('air_indoor_도서관',csv_list,new_addresses)\n",
    "get_csv_list('air_indoor_중학교',csv_list,new_addresses)\n",
    "get_csv_list('air_indoor_체육시설',csv_list,new_addresses)\n",
    "get_csv_list('air_indoor_초등학교',csv_list,new_addresses)"
   ]
  },
  {
   "cell_type": "markdown",
   "metadata": {},
   "source": [
    "## Y값 Mapping"
   ]
  },
  {
   "cell_type": "code",
   "execution_count": 26,
   "metadata": {},
   "outputs": [],
   "source": [
    "def y_mapping(address,new_address):\n",
    "    file=pd.read_csv(address)\n",
    "    \n",
    "    pm_10_data = file['in_pm10']\n",
    "    new_row_data = [pm_10_data.iloc[i +1] if i + 1 < len(pm_10_data) else None for i in range(len(file))]\n",
    "    \n",
    "    file['Y_pm10'] = new_row_data\n",
    "    file = file.iloc[:-1]        \n",
    "    \n",
    "    file.to_csv(new_address, index=False, header=True)\n",
    "    \n",
    "    return"
   ]
  },
  {
   "cell_type": "code",
   "execution_count": 27,
   "metadata": {},
   "outputs": [],
   "source": [
    "for address,new_address in zip(csv_list,new_addresses):\n",
    "    y_mapping(address,new_address)"
   ]
  },
  {
   "cell_type": "markdown",
   "metadata": {},
   "source": [
    "# 시설 유형별로 가장 긴 샘플들 병합"
   ]
  },
  {
   "cell_type": "code",
   "execution_count": 28,
   "metadata": {},
   "outputs": [],
   "source": [
    "def file_merge(address):\n",
    "    new=pd.DataFrame()\n",
    "    for file in address:\n",
    "        data=pd.read_csv(file)\n",
    "        new=pd.concat([new,data])\n",
    "\n",
    "    new.to_csv(\"./Merged_Data/By_Length.csv\",index=False)\n",
    "    \n",
    "    return new"
   ]
  },
  {
   "cell_type": "code",
   "execution_count": 29,
   "metadata": {},
   "outputs": [],
   "source": [
    "address=['./Grouped_Data/air_indoor_도서관/Mapped/ICW0W2000094.csv',\n",
    "        './Grouped_Data/air_indoor_초등학교/Mapped/ICW0W2000022.csv',\n",
    "        './Grouped_Data/air_indoor_체육시설/Mapped/ICW0W2001037.csv',\n",
    "        './Grouped_Data/air_indoor_중학교/Mapped/ICW0W2000020.csv']\n",
    "\n",
    "merged_data=file_merge(address)"
   ]
  },
  {
   "cell_type": "markdown",
   "metadata": {},
   "source": [
    "## scaler 훈련&저장 , scaler 적용된 파일을 별도의 경로에 저장"
   ]
  },
  {
   "cell_type": "code",
   "execution_count": 30,
   "metadata": {},
   "outputs": [],
   "source": [
    "def train_scaler(new,columm_list):\n",
    "    file=pd.DataFrame()\n",
    "    file[\"time\"]=new[\"time\"]\n",
    "    for columm in columm_list:\n",
    "        scaler=MinMaxScaler().fit(np.array(new[columm]).reshape(-1,1))\n",
    "        joblib.dump(scaler,\"./Merged_Data/Scaler/{:s}.pkl\".format(columm))\n",
    "        file[columm]=scaler.transform(np.array(new[columm]).reshape(-1,1))\n",
    "    file.to_csv(\"./Merged_Data/{:s}.csv\".format('Scaled'),index=False)\n",
    "    \n",
    "    return file"
   ]
  },
  {
   "cell_type": "code",
   "execution_count": 31,
   "metadata": {},
   "outputs": [
    {
     "data": {
      "text/html": [
       "<div>\n",
       "<style scoped>\n",
       "    .dataframe tbody tr th:only-of-type {\n",
       "        vertical-align: middle;\n",
       "    }\n",
       "\n",
       "    .dataframe tbody tr th {\n",
       "        vertical-align: top;\n",
       "    }\n",
       "\n",
       "    .dataframe thead th {\n",
       "        text-align: right;\n",
       "    }\n",
       "</style>\n",
       "<table border=\"1\" class=\"dataframe\">\n",
       "  <thead>\n",
       "    <tr style=\"text-align: right;\">\n",
       "      <th></th>\n",
       "      <th>time</th>\n",
       "      <th>in_co2</th>\n",
       "      <th>in_humi</th>\n",
       "      <th>in_pm10</th>\n",
       "      <th>in_temp</th>\n",
       "      <th>in_voc</th>\n",
       "      <th>Y_pm10</th>\n",
       "    </tr>\n",
       "  </thead>\n",
       "  <tbody>\n",
       "    <tr>\n",
       "      <th>0</th>\n",
       "      <td>2020-06-01 00:00:00+00:00</td>\n",
       "      <td>0.389964</td>\n",
       "      <td>0.473001</td>\n",
       "      <td>0.240888</td>\n",
       "      <td>0.719710</td>\n",
       "      <td>0.004820</td>\n",
       "      <td>0.200603</td>\n",
       "    </tr>\n",
       "    <tr>\n",
       "      <th>1</th>\n",
       "      <td>2020-06-01 01:00:00+00:00</td>\n",
       "      <td>0.385841</td>\n",
       "      <td>0.486241</td>\n",
       "      <td>0.200603</td>\n",
       "      <td>0.713185</td>\n",
       "      <td>0.007584</td>\n",
       "      <td>0.171401</td>\n",
       "    </tr>\n",
       "    <tr>\n",
       "      <th>2</th>\n",
       "      <td>2020-06-01 02:00:00+00:00</td>\n",
       "      <td>0.382704</td>\n",
       "      <td>0.497501</td>\n",
       "      <td>0.171401</td>\n",
       "      <td>0.705381</td>\n",
       "      <td>0.004179</td>\n",
       "      <td>0.155385</td>\n",
       "    </tr>\n",
       "    <tr>\n",
       "      <th>3</th>\n",
       "      <td>2020-06-01 03:00:00+00:00</td>\n",
       "      <td>0.379933</td>\n",
       "      <td>0.507269</td>\n",
       "      <td>0.155385</td>\n",
       "      <td>0.698556</td>\n",
       "      <td>0.003278</td>\n",
       "      <td>0.143053</td>\n",
       "    </tr>\n",
       "    <tr>\n",
       "      <th>4</th>\n",
       "      <td>2020-06-01 04:00:00+00:00</td>\n",
       "      <td>0.379093</td>\n",
       "      <td>0.518951</td>\n",
       "      <td>0.143053</td>\n",
       "      <td>0.694177</td>\n",
       "      <td>0.010778</td>\n",
       "      <td>0.123596</td>\n",
       "    </tr>\n",
       "    <tr>\n",
       "      <th>...</th>\n",
       "      <td>...</td>\n",
       "      <td>...</td>\n",
       "      <td>...</td>\n",
       "      <td>...</td>\n",
       "      <td>...</td>\n",
       "      <td>...</td>\n",
       "      <td>...</td>\n",
       "    </tr>\n",
       "    <tr>\n",
       "      <th>6618</th>\n",
       "      <td>2023-01-31 18:00:00+00:00</td>\n",
       "      <td>0.117454</td>\n",
       "      <td>0.345535</td>\n",
       "      <td>0.185530</td>\n",
       "      <td>0.188019</td>\n",
       "      <td>0.025577</td>\n",
       "      <td>0.169087</td>\n",
       "    </tr>\n",
       "    <tr>\n",
       "      <th>6619</th>\n",
       "      <td>2023-01-31 19:00:00+00:00</td>\n",
       "      <td>0.109944</td>\n",
       "      <td>0.349948</td>\n",
       "      <td>0.169087</td>\n",
       "      <td>0.187493</td>\n",
       "      <td>0.026248</td>\n",
       "      <td>0.158674</td>\n",
       "    </tr>\n",
       "    <tr>\n",
       "      <th>6620</th>\n",
       "      <td>2023-01-31 20:00:00+00:00</td>\n",
       "      <td>0.101463</td>\n",
       "      <td>0.355140</td>\n",
       "      <td>0.158674</td>\n",
       "      <td>0.188676</td>\n",
       "      <td>0.027310</td>\n",
       "      <td>0.152645</td>\n",
       "    </tr>\n",
       "    <tr>\n",
       "      <th>6621</th>\n",
       "      <td>2023-01-31 21:00:00+00:00</td>\n",
       "      <td>0.090513</td>\n",
       "      <td>0.354361</td>\n",
       "      <td>0.152645</td>\n",
       "      <td>0.186617</td>\n",
       "      <td>0.026228</td>\n",
       "      <td>0.154563</td>\n",
       "    </tr>\n",
       "    <tr>\n",
       "      <th>6622</th>\n",
       "      <td>2023-01-31 22:00:00+00:00</td>\n",
       "      <td>0.083712</td>\n",
       "      <td>0.358515</td>\n",
       "      <td>0.154563</td>\n",
       "      <td>0.186223</td>\n",
       "      <td>0.027069</td>\n",
       "      <td>0.158126</td>\n",
       "    </tr>\n",
       "  </tbody>\n",
       "</table>\n",
       "<p>61364 rows × 7 columns</p>\n",
       "</div>"
      ],
      "text/plain": [
       "                           time    in_co2   in_humi   in_pm10   in_temp  \\\n",
       "0     2020-06-01 00:00:00+00:00  0.389964  0.473001  0.240888  0.719710   \n",
       "1     2020-06-01 01:00:00+00:00  0.385841  0.486241  0.200603  0.713185   \n",
       "2     2020-06-01 02:00:00+00:00  0.382704  0.497501  0.171401  0.705381   \n",
       "3     2020-06-01 03:00:00+00:00  0.379933  0.507269  0.155385  0.698556   \n",
       "4     2020-06-01 04:00:00+00:00  0.379093  0.518951  0.143053  0.694177   \n",
       "...                         ...       ...       ...       ...       ...   \n",
       "6618  2023-01-31 18:00:00+00:00  0.117454  0.345535  0.185530  0.188019   \n",
       "6619  2023-01-31 19:00:00+00:00  0.109944  0.349948  0.169087  0.187493   \n",
       "6620  2023-01-31 20:00:00+00:00  0.101463  0.355140  0.158674  0.188676   \n",
       "6621  2023-01-31 21:00:00+00:00  0.090513  0.354361  0.152645  0.186617   \n",
       "6622  2023-01-31 22:00:00+00:00  0.083712  0.358515  0.154563  0.186223   \n",
       "\n",
       "        in_voc    Y_pm10  \n",
       "0     0.004820  0.200603  \n",
       "1     0.007584  0.171401  \n",
       "2     0.004179  0.155385  \n",
       "3     0.003278  0.143053  \n",
       "4     0.010778  0.123596  \n",
       "...        ...       ...  \n",
       "6618  0.025577  0.169087  \n",
       "6619  0.026248  0.158674  \n",
       "6620  0.027310  0.152645  \n",
       "6621  0.026228  0.154563  \n",
       "6622  0.027069  0.158126  \n",
       "\n",
       "[61364 rows x 7 columns]"
      ]
     },
     "execution_count": 31,
     "metadata": {},
     "output_type": "execute_result"
    }
   ],
   "source": [
    "columm_list=[]\n",
    "columm_list=merged_data.columns\n",
    "columm_list=columm_list.drop(\"time\")\n",
    "\n",
    "train_scaler(merged_data,columm_list)"
   ]
  },
  {
   "cell_type": "markdown",
   "metadata": {},
   "source": [
    "# 병합한 데이터 샘플을 8:1:1(train:valid:test) 비율로 split"
   ]
  },
  {
   "cell_type": "markdown",
   "metadata": {},
   "source": [
    "## 적용할 경로 load"
   ]
  },
  {
   "cell_type": "code",
   "execution_count": 32,
   "metadata": {},
   "outputs": [],
   "source": [
    "address='./Merged_Data/Scaled.csv'\n",
    "trainx_address='./Merged_Data/train_x.csv'\n",
    "testx_address='./Merged_Data/test_x.csv'\n",
    "trainy_address='./Merged_Data/train_y.csv'\n",
    "testy_address='./Merged_Data/test_y.csv'\n",
    "validx_address='./Merged_Data/valid_x.csv'\n",
    "validy_address='./Merged_Data/valid_y.csv'"
   ]
  },
  {
   "cell_type": "markdown",
   "metadata": {},
   "source": [
    "## split 적용"
   ]
  },
  {
   "cell_type": "code",
   "execution_count": 33,
   "metadata": {},
   "outputs": [],
   "source": [
    "def data_split(address,trainx_address,testx_address,validx_address,trainy_address,testy_address,validy_address):\n",
    "    file=pd.read_csv(address)\n",
    "    data=pd.DataFrame(file)\n",
    "    \n",
    "    data_x=data.drop('Y_pm10',axis=1)\n",
    "    data_y=data['Y_pm10']\n",
    "    \n",
    "    train_x,test_x,train_y,test_y=train_test_split(data_x,data_y,test_size=0.1,shuffle=False)\n",
    "    valid_x,test_x,valid_y,test_y=train_test_split(test_x,test_y,test_size=0.5,shuffle=False)\n",
    "    \n",
    "    train_x=pd.DataFrame(train_x)\n",
    "    test_x=pd.DataFrame(test_x)\n",
    "    valid_x=pd.DataFrame(valid_x)\n",
    "    train_y=pd.DataFrame(train_y)\n",
    "    test_y=pd.DataFrame(test_y)\n",
    "    valid_y=pd.DataFrame(valid_y)\n",
    "    \n",
    "    train_x.to_csv(trainx_address,index=False,header=True)\n",
    "    test_x.to_csv(testx_address,index=False,header=True)\n",
    "    valid_x.to_csv(validx_address,index=False,header=True)\n",
    "    train_y.to_csv(trainy_address,index=False,header=True)\n",
    "    test_y.to_csv(testy_address,index=False,header=True)\n",
    "    valid_y.to_csv(validy_address,index=False,header=True)\n",
    "    \n",
    "    return train_x,test_x,valid_x,train_y,test_y,valid_y"
   ]
  },
  {
   "cell_type": "code",
   "execution_count": 34,
   "metadata": {},
   "outputs": [],
   "source": [
    "train_x,test_x,valid_x,train_y,test_y,valid_y=data_split(address,trainx_address,testx_address,validx_address,trainy_address,testy_address,validy_address)"
   ]
  },
  {
   "cell_type": "markdown",
   "metadata": {},
   "source": [
    "# STL 기법을 이용한 시계열 분해 "
   ]
  },
  {
   "cell_type": "markdown",
   "metadata": {},
   "source": [
    "## 병합된 파일에 적용"
   ]
  },
  {
   "cell_type": "code",
   "execution_count": 35,
   "metadata": {},
   "outputs": [],
   "source": [
    "data_path = './Merged_Data'\n",
    "df = pd.read_csv(os.path.join(data_path, 'By_Length.csv'), engine='python')\n",
    "\n",
    "res = sm.tsa.seasonal_decompose(df.in_pm10, period=7, extrapolate_trend=1)\n",
    "\n",
    "df2=df.drop(\"in_pm10\",axis=1)\n",
    "df2['in_pm10_Seasonal_Trend'] = res.seasonal+res.trend\n",
    "df2.head()\n",
    "\n",
    "df2.to_csv(\"./Merged_Data/Seasonal_Trend.csv\",index=False)"
   ]
  },
  {
   "cell_type": "markdown",
   "metadata": {},
   "source": [
    "## train,valid,test set에도 적용"
   ]
  },
  {
   "cell_type": "code",
   "execution_count": 36,
   "metadata": {},
   "outputs": [],
   "source": [
    "def train_scaler(data):\n",
    "    scaler=MinMaxScaler().fit(np.array(data[\"in_pm10_Seasonal_Trend\"]).reshape(-1,1))\n",
    "    joblib.dump(scaler,\"./Merged_Data/Scaler/{:s}.pkl\".format(\"in_pm10_Seasonal_Trend\"))\n",
    "    \n",
    "    scaled=scaler.transform(np.array(data[\"in_pm10_Seasonal_Trend\"]).reshape(-1,1))\n",
    "    \n",
    "    new1=pd.read_csv(\"./Merged_Data/train_x.csv\").drop(\"in_pm10\",axis=1)\n",
    "    length1=len(new1)\n",
    "    new1[\"in_pm10_Seasonal_Trend\"]=scaled[:length1]\n",
    "    \n",
    "    new2=pd.read_csv(\"./Merged_Data/valid_x.csv\").drop(\"in_pm10\",axis=1)\n",
    "    length2=length1+len(new2)\n",
    "    new2[\"in_pm10_Seasonal_Trend\"]=scaled[length1:length2]\n",
    "    \n",
    "    new3=pd.read_csv(\"./Merged_Data/test_x.csv\").drop(\"in_pm10\",axis=1)\n",
    "    new3[\"in_pm10_Seasonal_Trend\"]=scaled[length2:]\n",
    "    \n",
    "    \n",
    "    new1.to_csv(\"./Merged_Data/train_x({:s}).csv\".format('Seasonal_Trend'),index=False)\n",
    "    new2.to_csv(\"./Merged_Data/valid_x({:s}).csv\".format('Seasonal_Trend'),index=False)\n",
    "    new3.to_csv(\"./Merged_Data/test_x({:s}).csv\".format('Seasonal_Trend'),index=False)\n",
    "    \n",
    "    return new1,new2,new3"
   ]
  },
  {
   "cell_type": "code",
   "execution_count": 37,
   "metadata": {},
   "outputs": [
    {
     "data": {
      "text/plain": [
       "(                            time    in_co2   in_humi   in_temp    in_voc  \\\n",
       " 0      2020-06-01 00:00:00+00:00  0.389964  0.473001  0.719710  0.004820   \n",
       " 1      2020-06-01 01:00:00+00:00  0.385841  0.486241  0.713185  0.007584   \n",
       " 2      2020-06-01 02:00:00+00:00  0.382704  0.497501  0.705381  0.004179   \n",
       " 3      2020-06-01 03:00:00+00:00  0.379933  0.507269  0.698556  0.003278   \n",
       " 4      2020-06-01 04:00:00+00:00  0.379093  0.518951  0.694177  0.010778   \n",
       " ...                          ...       ...       ...       ...       ...   \n",
       " 55222  2022-05-21 01:00:00+00:00  0.072552  0.519730  0.595503  0.021752   \n",
       " 55223  2022-05-21 02:00:00+00:00  0.065173  0.525961  0.594101  0.021802   \n",
       " 55224  2022-05-21 03:00:00+00:00  0.069322  0.536604  0.592569  0.022744   \n",
       " 55225  2022-05-21 04:00:00+00:00  0.075152  0.538422  0.591430  0.023024   \n",
       " 55226  2022-05-21 05:00:00+00:00  0.077883  0.538422  0.590598  0.023204   \n",
       " \n",
       "        in_pm10_Seasonal_Trend  \n",
       " 0                    0.226442  \n",
       " 1                    0.203836  \n",
       " 2                    0.183266  \n",
       " 3                    0.164217  \n",
       " 4                    0.144552  \n",
       " ...                       ...  \n",
       " 55222                0.385947  \n",
       " 55223                0.427732  \n",
       " 55224                0.470159  \n",
       " 55225                0.462880  \n",
       " 55226                0.457515  \n",
       " \n",
       " [55227 rows x 6 columns],\n",
       "                            time    in_co2   in_humi   in_temp    in_voc  \\\n",
       " 0     2022-05-21 06:00:00+00:00  0.077646  0.542575  0.591123  0.023645   \n",
       " 1     2022-05-21 07:00:00+00:00  0.080587  0.515057  0.596773  0.038865   \n",
       " 2     2022-05-21 08:00:00+00:00  0.076491  0.513240  0.598525  0.033598   \n",
       " 3     2022-05-21 09:00:00+00:00  0.113489  0.526480  0.595722  0.031595   \n",
       " 4     2022-05-21 10:00:00+00:00  0.115353  0.514538  0.603036  0.016916   \n",
       " ...                         ...       ...       ...       ...       ...   \n",
       " 3063  2022-09-25 21:00:00+00:00  0.084710  0.462357  0.609255  0.063787   \n",
       " 3064  2022-09-25 22:00:00+00:00  0.097182  0.476116  0.608335  0.062806   \n",
       " 3065  2022-09-25 23:00:00+00:00  0.104167  0.488837  0.607109  0.062436   \n",
       " 3066  2022-09-26 00:00:00+00:00  0.109288  0.491693  0.606014  0.060143   \n",
       " 3067  2022-09-26 01:00:00+00:00  0.088018  0.491693  0.603562  0.058040   \n",
       " \n",
       "       in_pm10_Seasonal_Trend  \n",
       " 0                   0.455114  \n",
       " 1                   0.445727  \n",
       " 2                   0.424436  \n",
       " 3                   0.394573  \n",
       " 4                   0.348530  \n",
       " ...                      ...  \n",
       " 3063                0.158085  \n",
       " 3064                0.172985  \n",
       " 3065                0.181384  \n",
       " 3066                0.184331  \n",
       " 3067                0.183988  \n",
       " \n",
       " [3068 rows x 6 columns],\n",
       "                            time    in_co2   in_humi   in_temp    in_voc  \\\n",
       " 0     2022-09-26 02:00:00+00:00  0.092745  0.499740  0.601372  0.055496   \n",
       " 1     2022-09-26 03:00:00+00:00  0.106478  0.507269  0.598656  0.053264   \n",
       " 2     2022-09-26 04:00:00+00:00  0.105611  0.507269  0.597123  0.045283   \n",
       " 3     2022-09-26 05:00:00+00:00  0.112018  0.507269  0.596598  0.038875   \n",
       " 4     2022-09-26 06:00:00+00:00  0.138540  0.517653  0.595503  0.039546   \n",
       " ...                         ...       ...       ...       ...       ...   \n",
       " 3064  2023-01-31 18:00:00+00:00  0.117454  0.345535  0.188019  0.025577   \n",
       " 3065  2023-01-31 19:00:00+00:00  0.109944  0.349948  0.187493  0.026248   \n",
       " 3066  2023-01-31 20:00:00+00:00  0.101463  0.355140  0.188676  0.027310   \n",
       " 3067  2023-01-31 21:00:00+00:00  0.090513  0.354361  0.186617  0.026228   \n",
       " 3068  2023-01-31 22:00:00+00:00  0.083712  0.358515  0.186223  0.027069   \n",
       " \n",
       "       in_pm10_Seasonal_Trend  \n",
       " 0                   0.181101  \n",
       " 1                   0.175422  \n",
       " 2                   0.168703  \n",
       " 3                   0.173639  \n",
       " 4                   0.188390  \n",
       " ...                      ...  \n",
       " 3064                0.182836  \n",
       " 3065                0.175062  \n",
       " 3066                0.172135  \n",
       " 3067                0.165473  \n",
       " 3068                0.156945  \n",
       " \n",
       " [3069 rows x 6 columns])"
      ]
     },
     "execution_count": 37,
     "metadata": {},
     "output_type": "execute_result"
    }
   ],
   "source": [
    "train_scaler(df2)"
   ]
  },
  {
   "cell_type": "markdown",
   "metadata": {},
   "source": [
    "## 적용할 파일의 경로 load"
   ]
  },
  {
   "cell_type": "code",
   "execution_count": 38,
   "metadata": {},
   "outputs": [],
   "source": [
    "csv_list=[]\n",
    "new_csv_list=[]\n",
    "\n",
    "def get_csv_list(db_name,csv_list,new_csv_list):\n",
    "    list1=os.listdir(\"./Grouped_Data/{:s}/Mapped/\".format(db_name))\n",
    "    \n",
    "    for file in list1:\n",
    "        csv_list.append(\"./Grouped_Data/{:s}/Mapped/{:s}\".format(db_name,file))\n",
    "        new_csv_list.append(\"./Grouped_Data/{:s}/Seasonal_Trend/{:s}\".format(db_name,file))\n",
    "        \n",
    "        if not os.path.exists(\"./Grouped_Data/{:s}/Seasonal_Trend/\".format(db_name)):\n",
    "            os.makedirs(\"./Grouped_Data/{:s}/Seasonal_Trend/\".format(db_name))\n",
    "            \n",
    "    return csv_list,new_csv_list"
   ]
  },
  {
   "cell_type": "code",
   "execution_count": 39,
   "metadata": {},
   "outputs": [
    {
     "data": {
      "text/plain": [
       "(['./Grouped_Data/air_indoor_도서관/Mapped/ICW0W2000087.csv',\n",
       "  './Grouped_Data/air_indoor_도서관/Mapped/ICW0W2000088.csv',\n",
       "  './Grouped_Data/air_indoor_도서관/Mapped/ICW0W2000089.csv',\n",
       "  './Grouped_Data/air_indoor_도서관/Mapped/ICW0W2000094.csv',\n",
       "  './Grouped_Data/air_indoor_도서관/Mapped/ICW0W2000095.csv',\n",
       "  './Grouped_Data/air_indoor_도서관/Mapped/ICW0W2000096.csv',\n",
       "  './Grouped_Data/air_indoor_도서관/Mapped/ICW0W2000097.csv',\n",
       "  './Grouped_Data/air_indoor_도서관/Mapped/ICW0W2000098.csv',\n",
       "  './Grouped_Data/air_indoor_도서관/Mapped/ICW0W2000099.csv',\n",
       "  './Grouped_Data/air_indoor_도서관/Mapped/ICW0W2000100.csv',\n",
       "  './Grouped_Data/air_indoor_도서관/Mapped/ICW0W2000101.csv',\n",
       "  './Grouped_Data/air_indoor_도서관/Mapped/ICW0W2000102.csv',\n",
       "  './Grouped_Data/air_indoor_도서관/Mapped/ICW0W2000108.csv',\n",
       "  './Grouped_Data/air_indoor_도서관/Mapped/ICW0W2000128.csv',\n",
       "  './Grouped_Data/air_indoor_도서관/Mapped/ICW0W2000129.csv',\n",
       "  './Grouped_Data/air_indoor_중학교/Mapped/ICW0W2000010.csv',\n",
       "  './Grouped_Data/air_indoor_중학교/Mapped/ICW0W2000011.csv',\n",
       "  './Grouped_Data/air_indoor_중학교/Mapped/ICW0W2000013.csv',\n",
       "  './Grouped_Data/air_indoor_중학교/Mapped/ICW0W2000014.csv',\n",
       "  './Grouped_Data/air_indoor_중학교/Mapped/ICW0W2000015.csv',\n",
       "  './Grouped_Data/air_indoor_중학교/Mapped/ICW0W2000018.csv',\n",
       "  './Grouped_Data/air_indoor_중학교/Mapped/ICW0W2000019.csv',\n",
       "  './Grouped_Data/air_indoor_중학교/Mapped/ICW0W2000020.csv',\n",
       "  './Grouped_Data/air_indoor_체육시설/Mapped/ICW0W2001036.csv',\n",
       "  './Grouped_Data/air_indoor_체육시설/Mapped/ICW0W2001037.csv',\n",
       "  './Grouped_Data/air_indoor_체육시설/Mapped/ICW0W2001043.csv',\n",
       "  './Grouped_Data/air_indoor_체육시설/Mapped/ICW0W2001044.csv',\n",
       "  './Grouped_Data/air_indoor_초등학교/Mapped/ICW0W2000022.csv',\n",
       "  './Grouped_Data/air_indoor_초등학교/Mapped/ICW0W2000023.csv',\n",
       "  './Grouped_Data/air_indoor_초등학교/Mapped/ICW0W2000024.csv',\n",
       "  './Grouped_Data/air_indoor_초등학교/Mapped/ICW0W2000025.csv',\n",
       "  './Grouped_Data/air_indoor_초등학교/Mapped/ICW0W2000031.csv',\n",
       "  './Grouped_Data/air_indoor_초등학교/Mapped/ICW0W2000034.csv'],\n",
       " ['./Grouped_Data/air_indoor_도서관/Seasonal_Trend/ICW0W2000087.csv',\n",
       "  './Grouped_Data/air_indoor_도서관/Seasonal_Trend/ICW0W2000088.csv',\n",
       "  './Grouped_Data/air_indoor_도서관/Seasonal_Trend/ICW0W2000089.csv',\n",
       "  './Grouped_Data/air_indoor_도서관/Seasonal_Trend/ICW0W2000094.csv',\n",
       "  './Grouped_Data/air_indoor_도서관/Seasonal_Trend/ICW0W2000095.csv',\n",
       "  './Grouped_Data/air_indoor_도서관/Seasonal_Trend/ICW0W2000096.csv',\n",
       "  './Grouped_Data/air_indoor_도서관/Seasonal_Trend/ICW0W2000097.csv',\n",
       "  './Grouped_Data/air_indoor_도서관/Seasonal_Trend/ICW0W2000098.csv',\n",
       "  './Grouped_Data/air_indoor_도서관/Seasonal_Trend/ICW0W2000099.csv',\n",
       "  './Grouped_Data/air_indoor_도서관/Seasonal_Trend/ICW0W2000100.csv',\n",
       "  './Grouped_Data/air_indoor_도서관/Seasonal_Trend/ICW0W2000101.csv',\n",
       "  './Grouped_Data/air_indoor_도서관/Seasonal_Trend/ICW0W2000102.csv',\n",
       "  './Grouped_Data/air_indoor_도서관/Seasonal_Trend/ICW0W2000108.csv',\n",
       "  './Grouped_Data/air_indoor_도서관/Seasonal_Trend/ICW0W2000128.csv',\n",
       "  './Grouped_Data/air_indoor_도서관/Seasonal_Trend/ICW0W2000129.csv',\n",
       "  './Grouped_Data/air_indoor_중학교/Seasonal_Trend/ICW0W2000010.csv',\n",
       "  './Grouped_Data/air_indoor_중학교/Seasonal_Trend/ICW0W2000011.csv',\n",
       "  './Grouped_Data/air_indoor_중학교/Seasonal_Trend/ICW0W2000013.csv',\n",
       "  './Grouped_Data/air_indoor_중학교/Seasonal_Trend/ICW0W2000014.csv',\n",
       "  './Grouped_Data/air_indoor_중학교/Seasonal_Trend/ICW0W2000015.csv',\n",
       "  './Grouped_Data/air_indoor_중학교/Seasonal_Trend/ICW0W2000018.csv',\n",
       "  './Grouped_Data/air_indoor_중학교/Seasonal_Trend/ICW0W2000019.csv',\n",
       "  './Grouped_Data/air_indoor_중학교/Seasonal_Trend/ICW0W2000020.csv',\n",
       "  './Grouped_Data/air_indoor_체육시설/Seasonal_Trend/ICW0W2001036.csv',\n",
       "  './Grouped_Data/air_indoor_체육시설/Seasonal_Trend/ICW0W2001037.csv',\n",
       "  './Grouped_Data/air_indoor_체육시설/Seasonal_Trend/ICW0W2001043.csv',\n",
       "  './Grouped_Data/air_indoor_체육시설/Seasonal_Trend/ICW0W2001044.csv',\n",
       "  './Grouped_Data/air_indoor_초등학교/Seasonal_Trend/ICW0W2000022.csv',\n",
       "  './Grouped_Data/air_indoor_초등학교/Seasonal_Trend/ICW0W2000023.csv',\n",
       "  './Grouped_Data/air_indoor_초등학교/Seasonal_Trend/ICW0W2000024.csv',\n",
       "  './Grouped_Data/air_indoor_초등학교/Seasonal_Trend/ICW0W2000025.csv',\n",
       "  './Grouped_Data/air_indoor_초등학교/Seasonal_Trend/ICW0W2000031.csv',\n",
       "  './Grouped_Data/air_indoor_초등학교/Seasonal_Trend/ICW0W2000034.csv'])"
      ]
     },
     "execution_count": 39,
     "metadata": {},
     "output_type": "execute_result"
    }
   ],
   "source": [
    "get_csv_list('air_indoor_도서관',csv_list,new_csv_list)\n",
    "get_csv_list('air_indoor_중학교',csv_list,new_csv_list)\n",
    "get_csv_list('air_indoor_체육시설',csv_list,new_csv_list)\n",
    "get_csv_list('air_indoor_초등학교',csv_list,new_csv_list)"
   ]
  },
  {
   "cell_type": "markdown",
   "metadata": {},
   "source": [
    "## 모든 샘플에 대하여 적용하고 scaler 저장"
   ]
  },
  {
   "cell_type": "code",
   "execution_count": 40,
   "metadata": {},
   "outputs": [],
   "source": [
    "def seasonal_grouped(csv_file,new_csv_file):\n",
    "    df=pd.read_csv(csv_file)\n",
    "    \n",
    "    res = sm.tsa.seasonal_decompose(df.in_pm10, period=7, extrapolate_trend=1)\n",
    "    df[\"in_pm10_Seasonal_Trend\"]=res.seasonal+res.trend\n",
    "    \n",
    "    df=df.drop(\"in_pm10\",axis=1)\n",
    "    df.to_csv(new_csv_file,index=False)\n",
    "    \n",
    "    return"
   ]
  },
  {
   "cell_type": "code",
   "execution_count": 41,
   "metadata": {},
   "outputs": [],
   "source": [
    "for csv_file,new_csv_file in zip(csv_list,new_csv_list):\n",
    "    seasonal_grouped(csv_file,new_csv_file)"
   ]
  }
 ],
 "metadata": {
  "kernelspec": {
   "display_name": "meta",
   "language": "python",
   "name": "python3"
  },
  "language_info": {
   "codemirror_mode": {
    "name": "ipython",
    "version": 3
   },
   "file_extension": ".py",
   "mimetype": "text/x-python",
   "name": "python",
   "nbconvert_exporter": "python",
   "pygments_lexer": "ipython3",
   "version": "3.7.1"
  }
 },
 "nbformat": 4,
 "nbformat_minor": 2
}
