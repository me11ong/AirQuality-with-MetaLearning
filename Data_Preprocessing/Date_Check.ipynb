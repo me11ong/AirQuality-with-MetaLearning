{
 "cells": [
  {
   "cell_type": "markdown",
   "metadata": {},
   "source": [
    "# 가장 길이가 긴 데이터 샘플 살펴보기"
   ]
  },
  {
   "cell_type": "code",
   "execution_count": 1,
   "metadata": {},
   "outputs": [],
   "source": [
    "import matplotlib.pyplot as plt\n",
    "import pandas as pd \n",
    "import numpy as np\n",
    "import os"
   ]
  },
  {
   "cell_type": "markdown",
   "metadata": {},
   "source": [
    "## 적용할 파일의 경로 load"
   ]
  },
  {
   "cell_type": "code",
   "execution_count": 2,
   "metadata": {},
   "outputs": [],
   "source": [
    "csv_list=[]\n",
    "\n",
    "def get_csv_list(db_name,csv_list):\n",
    "    list1=os.listdir(\"../Grouped_Data/{:s}/Mapped/\".format(db_name))\n",
    "    \n",
    "    for file in list1:\n",
    "        csv_list.append(\"../Grouped_Data/{:s}/Mapped/{:s}\".format(db_name,file))\n",
    "\n",
    "    return csv_list"
   ]
  },
  {
   "cell_type": "code",
   "execution_count": 3,
   "metadata": {},
   "outputs": [
    {
     "data": {
      "text/plain": [
       "['../Grouped_Data/air_indoor_도서관/Mapped/ICW0W2000087.csv',\n",
       " '../Grouped_Data/air_indoor_도서관/Mapped/ICW0W2000088.csv',\n",
       " '../Grouped_Data/air_indoor_도서관/Mapped/ICW0W2000089.csv',\n",
       " '../Grouped_Data/air_indoor_도서관/Mapped/ICW0W2000094.csv',\n",
       " '../Grouped_Data/air_indoor_도서관/Mapped/ICW0W2000095.csv',\n",
       " '../Grouped_Data/air_indoor_도서관/Mapped/ICW0W2000096.csv',\n",
       " '../Grouped_Data/air_indoor_도서관/Mapped/ICW0W2000097.csv',\n",
       " '../Grouped_Data/air_indoor_도서관/Mapped/ICW0W2000098.csv',\n",
       " '../Grouped_Data/air_indoor_도서관/Mapped/ICW0W2000099.csv',\n",
       " '../Grouped_Data/air_indoor_도서관/Mapped/ICW0W2000100.csv',\n",
       " '../Grouped_Data/air_indoor_도서관/Mapped/ICW0W2000101.csv',\n",
       " '../Grouped_Data/air_indoor_도서관/Mapped/ICW0W2000102.csv',\n",
       " '../Grouped_Data/air_indoor_도서관/Mapped/ICW0W2000108.csv',\n",
       " '../Grouped_Data/air_indoor_도서관/Mapped/ICW0W2000128.csv',\n",
       " '../Grouped_Data/air_indoor_도서관/Mapped/ICW0W2000129.csv',\n",
       " '../Grouped_Data/air_indoor_중학교/Mapped/ICW0W2000010.csv',\n",
       " '../Grouped_Data/air_indoor_중학교/Mapped/ICW0W2000011.csv',\n",
       " '../Grouped_Data/air_indoor_중학교/Mapped/ICW0W2000013.csv',\n",
       " '../Grouped_Data/air_indoor_중학교/Mapped/ICW0W2000014.csv',\n",
       " '../Grouped_Data/air_indoor_중학교/Mapped/ICW0W2000015.csv',\n",
       " '../Grouped_Data/air_indoor_중학교/Mapped/ICW0W2000018.csv',\n",
       " '../Grouped_Data/air_indoor_중학교/Mapped/ICW0W2000019.csv',\n",
       " '../Grouped_Data/air_indoor_중학교/Mapped/ICW0W2000020.csv',\n",
       " '../Grouped_Data/air_indoor_체육시설/Mapped/ICW0W2001036.csv',\n",
       " '../Grouped_Data/air_indoor_체육시설/Mapped/ICW0W2001037.csv',\n",
       " '../Grouped_Data/air_indoor_체육시설/Mapped/ICW0W2001043.csv',\n",
       " '../Grouped_Data/air_indoor_체육시설/Mapped/ICW0W2001044.csv',\n",
       " '../Grouped_Data/air_indoor_초등학교/Mapped/ICW0W2000022.csv',\n",
       " '../Grouped_Data/air_indoor_초등학교/Mapped/ICW0W2000023.csv',\n",
       " '../Grouped_Data/air_indoor_초등학교/Mapped/ICW0W2000024.csv',\n",
       " '../Grouped_Data/air_indoor_초등학교/Mapped/ICW0W2000025.csv',\n",
       " '../Grouped_Data/air_indoor_초등학교/Mapped/ICW0W2000031.csv',\n",
       " '../Grouped_Data/air_indoor_초등학교/Mapped/ICW0W2000034.csv']"
      ]
     },
     "execution_count": 3,
     "metadata": {},
     "output_type": "execute_result"
    }
   ],
   "source": [
    "get_csv_list('air_indoor_도서관',csv_list)\n",
    "get_csv_list('air_indoor_중학교',csv_list)\n",
    "get_csv_list('air_indoor_체육시설',csv_list)\n",
    "get_csv_list('air_indoor_초등학교',csv_list)"
   ]
  },
  {
   "cell_type": "markdown",
   "metadata": {},
   "source": [
    "## 각 샘플별 길이를 오름차순으로 정렬하여 출력 "
   ]
  },
  {
   "cell_type": "code",
   "execution_count": 4,
   "metadata": {},
   "outputs": [],
   "source": [
    "Date_Len={}\n",
    "\n",
    "def Date_Check(Date_Len,address):\n",
    "    file=pd.read_csv(address)\n",
    "    length=len(file)\n",
    "    \n",
    "    Date_Len[address]=length\n",
    "    \n",
    "    return Date_Len"
   ]
  },
  {
   "cell_type": "code",
   "execution_count": 5,
   "metadata": {},
   "outputs": [],
   "source": [
    "for address in csv_list:\n",
    "    Date_Len=Date_Check(Date_Len,address)"
   ]
  },
  {
   "cell_type": "markdown",
   "metadata": {},
   "source": [
    "#### 결과 : 도서관(ICW0W2000094),초등학교(ICW0W2000022),체육시설(ICW0W2001037),중학교(ICW0W2000020)"
   ]
  },
  {
   "cell_type": "code",
   "execution_count": 6,
   "metadata": {},
   "outputs": [
    {
     "data": {
      "text/plain": [
       "[('../Grouped_Data/air_indoor_도서관/Mapped/ICW0W2000129.csv', 4763),\n",
       " ('../Grouped_Data/air_indoor_체육시설/Mapped/ICW0W2001043.csv', 5087),\n",
       " ('../Grouped_Data/air_indoor_체육시설/Mapped/ICW0W2001044.csv', 5087),\n",
       " ('../Grouped_Data/air_indoor_도서관/Mapped/ICW0W2000097.csv', 6539),\n",
       " ('../Grouped_Data/air_indoor_도서관/Mapped/ICW0W2000098.csv', 6540),\n",
       " ('../Grouped_Data/air_indoor_도서관/Mapped/ICW0W2000087.csv', 6551),\n",
       " ('../Grouped_Data/air_indoor_도서관/Mapped/ICW0W2000088.csv', 6551),\n",
       " ('../Grouped_Data/air_indoor_도서관/Mapped/ICW0W2000089.csv', 6551),\n",
       " ('../Grouped_Data/air_indoor_도서관/Mapped/ICW0W2000099.csv', 6551),\n",
       " ('../Grouped_Data/air_indoor_도서관/Mapped/ICW0W2000100.csv', 6551),\n",
       " ('../Grouped_Data/air_indoor_도서관/Mapped/ICW0W2000101.csv', 6551),\n",
       " ('../Grouped_Data/air_indoor_도서관/Mapped/ICW0W2000102.csv', 6551),\n",
       " ('../Grouped_Data/air_indoor_도서관/Mapped/ICW0W2000108.csv', 6551),\n",
       " ('../Grouped_Data/air_indoor_도서관/Mapped/ICW0W2000128.csv', 6551),\n",
       " ('../Grouped_Data/air_indoor_중학교/Mapped/ICW0W2000010.csv', 6623),\n",
       " ('../Grouped_Data/air_indoor_중학교/Mapped/ICW0W2000011.csv', 6623),\n",
       " ('../Grouped_Data/air_indoor_중학교/Mapped/ICW0W2000013.csv', 6623),\n",
       " ('../Grouped_Data/air_indoor_중학교/Mapped/ICW0W2000014.csv', 6623),\n",
       " ('../Grouped_Data/air_indoor_중학교/Mapped/ICW0W2000015.csv', 6623),\n",
       " ('../Grouped_Data/air_indoor_중학교/Mapped/ICW0W2000018.csv', 6623),\n",
       " ('../Grouped_Data/air_indoor_중학교/Mapped/ICW0W2000019.csv', 6623),\n",
       " ('../Grouped_Data/air_indoor_중학교/Mapped/ICW0W2000020.csv', 6623),\n",
       " ('../Grouped_Data/air_indoor_체육시설/Mapped/ICW0W2001036.csv', 13103),\n",
       " ('../Grouped_Data/air_indoor_체육시설/Mapped/ICW0W2001037.csv', 13103),\n",
       " ('../Grouped_Data/air_indoor_초등학교/Mapped/ICW0W2000023.csv', 17344),\n",
       " ('../Grouped_Data/air_indoor_초등학교/Mapped/ICW0W2000024.csv', 18952),\n",
       " ('../Grouped_Data/air_indoor_초등학교/Mapped/ICW0W2000025.csv', 18952),\n",
       " ('../Grouped_Data/air_indoor_초등학교/Mapped/ICW0W2000031.csv', 18952),\n",
       " ('../Grouped_Data/air_indoor_초등학교/Mapped/ICW0W2000034.csv', 18952),\n",
       " ('../Grouped_Data/air_indoor_초등학교/Mapped/ICW0W2000022.csv', 18983),\n",
       " ('../Grouped_Data/air_indoor_도서관/Mapped/ICW0W2000095.csv', 22643),\n",
       " ('../Grouped_Data/air_indoor_도서관/Mapped/ICW0W2000096.csv', 22643),\n",
       " ('../Grouped_Data/air_indoor_도서관/Mapped/ICW0W2000094.csv', 22655)]"
      ]
     },
     "execution_count": 6,
     "metadata": {},
     "output_type": "execute_result"
    }
   ],
   "source": [
    "Date_Len = sorted(Date_Len.items(), key = lambda x: (x[1], x[0]))\n",
    "Date_Len"
   ]
  }
 ],
 "metadata": {
  "kernelspec": {
   "display_name": "d_linear",
   "language": "python",
   "name": "python3"
  },
  "language_info": {
   "codemirror_mode": {
    "name": "ipython",
    "version": 3
   },
   "file_extension": ".py",
   "mimetype": "text/x-python",
   "name": "python",
   "nbconvert_exporter": "python",
   "pygments_lexer": "ipython3",
   "version": "3.7.1"
  },
  "orig_nbformat": 4
 },
 "nbformat": 4,
 "nbformat_minor": 2
}
