{
 "cells": [
  {
   "cell_type": "markdown",
   "metadata": {},
   "source": [
    "# 병합한 데이터 샘플을 8:1:1(train:valid:test) 비율로 split"
   ]
  },
  {
   "cell_type": "code",
   "execution_count": null,
   "metadata": {},
   "outputs": [],
   "source": [
    "import pandas as pd\n",
    "from sklearn.model_selection import train_test_split\n",
    "import os"
   ]
  },
  {
   "cell_type": "markdown",
   "metadata": {},
   "source": [
    "## 적용할 파일 경로 지정"
   ]
  },
  {
   "cell_type": "code",
   "execution_count": null,
   "metadata": {},
   "outputs": [],
   "source": [
    "address='../Merged_Data/Scaled.csv'\n",
    "trainx_address='../Merged_Data/train_x.csv'\n",
    "testx_address='../Merged_Data/test_x.csv'\n",
    "trainy_address='../Merged_Data/train_y.csv'\n",
    "testy_address='../Merged_Data/test_y.csv'\n",
    "validx_address='../Merged_Data/valid_x.csv'\n",
    "validy_address='../Merged_Data/valid_y.csv'\n"
   ]
  },
  {
   "cell_type": "markdown",
   "metadata": {},
   "source": [
    "## split 적용"
   ]
  },
  {
   "cell_type": "code",
   "execution_count": null,
   "metadata": {},
   "outputs": [],
   "source": [
    "def data_split(address,trainx_address,testx_address,validx_address,trainy_address,testy_address,validy_address):\n",
    "    file=pd.read_csv(address)\n",
    "    data=pd.DataFrame(file)\n",
    "    \n",
    "    data_x=data.drop('Y_pm10',axis=1)\n",
    "    data_y=data['Y_pm10']\n",
    "    \n",
    "    train_x,test_x,train_y,test_y=train_test_split(data_x,data_y,test_size=0.1,shuffle=False)\n",
    "    valid_x,test_x,valid_y,test_y=train_test_split(test_x,test_y,test_size=0.5,shuffle=False)\n",
    "    \n",
    "    train_x=pd.DataFrame(train_x)\n",
    "    test_x=pd.DataFrame(test_x)\n",
    "    valid_x=pd.DataFrame(valid_x)\n",
    "    train_y=pd.DataFrame(train_y)\n",
    "    test_y=pd.DataFrame(test_y)\n",
    "    valid_y=pd.DataFrame(valid_y)\n",
    "    \n",
    "    train_x.to_csv(trainx_address,index=False,header=True)\n",
    "    test_x.to_csv(testx_address,index=False,header=True)\n",
    "    valid_x.to_csv(validx_address,index=False,header=True)\n",
    "    train_y.to_csv(trainy_address,index=False,header=True)\n",
    "    test_y.to_csv(testy_address,index=False,header=True)\n",
    "    valid_y.to_csv(validy_address,index=False,header=True)\n",
    "    \n",
    "    return train_x,test_x,valid_x,train_y,test_y,valid_y"
   ]
  },
  {
   "cell_type": "code",
   "execution_count": null,
   "metadata": {},
   "outputs": [],
   "source": [
    "train_x,test_x,valid_x,train_y,test_y,valid_y=data_split(address,trainx_address,testx_address,validx_address,trainy_address,testy_address,validy_address)"
   ]
  }
 ],
 "metadata": {
  "kernelspec": {
   "display_name": "d_linear",
   "language": "python",
   "name": "python3"
  },
  "language_info": {
   "codemirror_mode": {
    "name": "ipython",
    "version": 3
   },
   "file_extension": ".py",
   "mimetype": "text/x-python",
   "name": "python",
   "nbconvert_exporter": "python",
   "pygments_lexer": "ipython3",
   "version": "3.7.1"
  },
  "orig_nbformat": 4
 },
 "nbformat": 4,
 "nbformat_minor": 2
}
