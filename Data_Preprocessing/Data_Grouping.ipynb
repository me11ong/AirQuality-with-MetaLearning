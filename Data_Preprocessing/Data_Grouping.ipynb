{
 "cells": [
  {
   "cell_type": "code",
   "execution_count": 1,
   "metadata": {},
   "outputs": [],
   "source": [
    "import pandas as pd\n",
    "import os"
   ]
  },
  {
   "cell_type": "markdown",
   "metadata": {},
   "source": [
    "## 분 단위 데이터를 한시간 단위로 그룹핑"
   ]
  },
  {
   "cell_type": "code",
   "execution_count": 2,
   "metadata": {},
   "outputs": [],
   "source": [
    "def grouping(db_name,ms_name):\n",
    "    address=\"../RawData/\"+db_name+'/'+ms_name\n",
    "    saved_address=\"../RawData/\"+db_name+'/1hour/'+ms_name\n",
    "    \n",
    "    data=pd.read_csv(address)\n",
    "    data=pd.DataFrame(data)\n",
    "    \n",
    "    data=data.drop(['in_noise','in_pm01','in_pm25'],axis=1)\n",
    "    \n",
    "    data['time'] = pd.to_datetime(data['time'])\n",
    "    data.set_index('time', inplace=True)\n",
    "    \n",
    "    data_new = pd.DataFrame()\n",
    "    column=data.columns\n",
    "    \n",
    "    for i in range(len(column)):\n",
    "        what=column[i]\n",
    "        data_new[what]=data[what].resample(rule='1H').mean()\n",
    "    \n",
    "    data_new.to_csv(saved_address,header=True)\n",
    "    \n",
    "    return"
   ]
  },
  {
   "cell_type": "code",
   "execution_count": 3,
   "metadata": {},
   "outputs": [],
   "source": [
    "db_names=['air_indoor_도서관','air_indoor_중학교','air_indoor_체육시설','air_indoor_초등학교']\n",
    "\n",
    "for i in range(len(db_names)):\n",
    "    db_name=db_names[i]\n",
    "    ms_list=os.listdir('../RawData/'+db_name)\n",
    "    for j in range(len(ms_list)):\n",
    "        ms_name=ms_list[j]\n",
    "        if(ms_name.endswith(\".csv\")):\n",
    "            grouping(db_name,ms_name)"
   ]
  }
 ],
 "metadata": {
  "kernelspec": {
   "display_name": "d_linear",
   "language": "python",
   "name": "python3"
  },
  "language_info": {
   "codemirror_mode": {
    "name": "ipython",
    "version": 3
   },
   "file_extension": ".py",
   "mimetype": "text/x-python",
   "name": "python",
   "nbconvert_exporter": "python",
   "pygments_lexer": "ipython3",
   "version": "3.7.1"
  },
  "orig_nbformat": 4
 },
 "nbformat": 4,
 "nbformat_minor": 2
}
