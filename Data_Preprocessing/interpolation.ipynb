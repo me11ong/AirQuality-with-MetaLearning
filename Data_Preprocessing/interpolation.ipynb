{
 "cells": [
  {
   "cell_type": "code",
   "execution_count": 1,
   "metadata": {},
   "outputs": [],
   "source": [
    "import pandas as pd\n",
    "import numpy as np\n",
    "import os"
   ]
  },
  {
   "cell_type": "markdown",
   "metadata": {},
   "source": [
    "## Interpolation 적용할 파일들 경로 load"
   ]
  },
  {
   "cell_type": "code",
   "execution_count": 2,
   "metadata": {},
   "outputs": [],
   "source": [
    "csv_list=[]\n",
    "new_address=[]\n",
    "\n",
    "def get_csv_list(db_name,csv_list,new_address):\n",
    "    list1=os.listdir(\"../Grouped_Data/{:s}/Missing_Value(All)/\".format(db_name))\n",
    "    \n",
    "    for file in list1:\n",
    "        csv_list.append(\"../Grouped_Data/{:s}/Missing_Value(All)/{:s}\".format(db_name,file))\n",
    "        new_address.append(\"../Grouped_Data/{:s}/{:s}/{:s}\".format(db_name,'Interpolated',file))\n",
    "\n",
    "    return csv_list,new_address"
   ]
  },
  {
   "cell_type": "code",
   "execution_count": 3,
   "metadata": {},
   "outputs": [
    {
     "data": {
      "text/plain": [
       "(['../Grouped_Data/air_indoor_도서관/Missing_Value(All)/ICW0W2000087.csv',\n",
       "  '../Grouped_Data/air_indoor_도서관/Missing_Value(All)/ICW0W2000088.csv',\n",
       "  '../Grouped_Data/air_indoor_도서관/Missing_Value(All)/ICW0W2000089.csv',\n",
       "  '../Grouped_Data/air_indoor_도서관/Missing_Value(All)/ICW0W2000094.csv',\n",
       "  '../Grouped_Data/air_indoor_도서관/Missing_Value(All)/ICW0W2000095.csv',\n",
       "  '../Grouped_Data/air_indoor_도서관/Missing_Value(All)/ICW0W2000096.csv',\n",
       "  '../Grouped_Data/air_indoor_도서관/Missing_Value(All)/ICW0W2000097.csv',\n",
       "  '../Grouped_Data/air_indoor_도서관/Missing_Value(All)/ICW0W2000098.csv',\n",
       "  '../Grouped_Data/air_indoor_도서관/Missing_Value(All)/ICW0W2000099.csv',\n",
       "  '../Grouped_Data/air_indoor_도서관/Missing_Value(All)/ICW0W2000100.csv',\n",
       "  '../Grouped_Data/air_indoor_도서관/Missing_Value(All)/ICW0W2000101.csv',\n",
       "  '../Grouped_Data/air_indoor_도서관/Missing_Value(All)/ICW0W2000102.csv',\n",
       "  '../Grouped_Data/air_indoor_도서관/Missing_Value(All)/ICW0W2000108.csv',\n",
       "  '../Grouped_Data/air_indoor_도서관/Missing_Value(All)/ICW0W2000128.csv',\n",
       "  '../Grouped_Data/air_indoor_도서관/Missing_Value(All)/ICW0W2000129.csv',\n",
       "  '../Grouped_Data/air_indoor_중학교/Missing_Value(All)/ICW0W2000010.csv',\n",
       "  '../Grouped_Data/air_indoor_중학교/Missing_Value(All)/ICW0W2000011.csv',\n",
       "  '../Grouped_Data/air_indoor_중학교/Missing_Value(All)/ICW0W2000013.csv',\n",
       "  '../Grouped_Data/air_indoor_중학교/Missing_Value(All)/ICW0W2000014.csv',\n",
       "  '../Grouped_Data/air_indoor_중학교/Missing_Value(All)/ICW0W2000015.csv',\n",
       "  '../Grouped_Data/air_indoor_중학교/Missing_Value(All)/ICW0W2000018.csv',\n",
       "  '../Grouped_Data/air_indoor_중학교/Missing_Value(All)/ICW0W2000019.csv',\n",
       "  '../Grouped_Data/air_indoor_중학교/Missing_Value(All)/ICW0W2000020.csv',\n",
       "  '../Grouped_Data/air_indoor_체육시설/Missing_Value(All)/ICW0W2001036.csv',\n",
       "  '../Grouped_Data/air_indoor_체육시설/Missing_Value(All)/ICW0W2001037.csv',\n",
       "  '../Grouped_Data/air_indoor_체육시설/Missing_Value(All)/ICW0W2001043.csv',\n",
       "  '../Grouped_Data/air_indoor_체육시설/Missing_Value(All)/ICW0W2001044.csv',\n",
       "  '../Grouped_Data/air_indoor_초등학교/Missing_Value(All)/ICW0W2000022.csv',\n",
       "  '../Grouped_Data/air_indoor_초등학교/Missing_Value(All)/ICW0W2000023.csv',\n",
       "  '../Grouped_Data/air_indoor_초등학교/Missing_Value(All)/ICW0W2000024.csv',\n",
       "  '../Grouped_Data/air_indoor_초등학교/Missing_Value(All)/ICW0W2000025.csv',\n",
       "  '../Grouped_Data/air_indoor_초등학교/Missing_Value(All)/ICW0W2000031.csv',\n",
       "  '../Grouped_Data/air_indoor_초등학교/Missing_Value(All)/ICW0W2000034.csv'],\n",
       " ['../Grouped_Data/air_indoor_도서관/Interpolated/ICW0W2000087.csv',\n",
       "  '../Grouped_Data/air_indoor_도서관/Interpolated/ICW0W2000088.csv',\n",
       "  '../Grouped_Data/air_indoor_도서관/Interpolated/ICW0W2000089.csv',\n",
       "  '../Grouped_Data/air_indoor_도서관/Interpolated/ICW0W2000094.csv',\n",
       "  '../Grouped_Data/air_indoor_도서관/Interpolated/ICW0W2000095.csv',\n",
       "  '../Grouped_Data/air_indoor_도서관/Interpolated/ICW0W2000096.csv',\n",
       "  '../Grouped_Data/air_indoor_도서관/Interpolated/ICW0W2000097.csv',\n",
       "  '../Grouped_Data/air_indoor_도서관/Interpolated/ICW0W2000098.csv',\n",
       "  '../Grouped_Data/air_indoor_도서관/Interpolated/ICW0W2000099.csv',\n",
       "  '../Grouped_Data/air_indoor_도서관/Interpolated/ICW0W2000100.csv',\n",
       "  '../Grouped_Data/air_indoor_도서관/Interpolated/ICW0W2000101.csv',\n",
       "  '../Grouped_Data/air_indoor_도서관/Interpolated/ICW0W2000102.csv',\n",
       "  '../Grouped_Data/air_indoor_도서관/Interpolated/ICW0W2000108.csv',\n",
       "  '../Grouped_Data/air_indoor_도서관/Interpolated/ICW0W2000128.csv',\n",
       "  '../Grouped_Data/air_indoor_도서관/Interpolated/ICW0W2000129.csv',\n",
       "  '../Grouped_Data/air_indoor_중학교/Interpolated/ICW0W2000010.csv',\n",
       "  '../Grouped_Data/air_indoor_중학교/Interpolated/ICW0W2000011.csv',\n",
       "  '../Grouped_Data/air_indoor_중학교/Interpolated/ICW0W2000013.csv',\n",
       "  '../Grouped_Data/air_indoor_중학교/Interpolated/ICW0W2000014.csv',\n",
       "  '../Grouped_Data/air_indoor_중학교/Interpolated/ICW0W2000015.csv',\n",
       "  '../Grouped_Data/air_indoor_중학교/Interpolated/ICW0W2000018.csv',\n",
       "  '../Grouped_Data/air_indoor_중학교/Interpolated/ICW0W2000019.csv',\n",
       "  '../Grouped_Data/air_indoor_중학교/Interpolated/ICW0W2000020.csv',\n",
       "  '../Grouped_Data/air_indoor_체육시설/Interpolated/ICW0W2001036.csv',\n",
       "  '../Grouped_Data/air_indoor_체육시설/Interpolated/ICW0W2001037.csv',\n",
       "  '../Grouped_Data/air_indoor_체육시설/Interpolated/ICW0W2001043.csv',\n",
       "  '../Grouped_Data/air_indoor_체육시설/Interpolated/ICW0W2001044.csv',\n",
       "  '../Grouped_Data/air_indoor_초등학교/Interpolated/ICW0W2000022.csv',\n",
       "  '../Grouped_Data/air_indoor_초등학교/Interpolated/ICW0W2000023.csv',\n",
       "  '../Grouped_Data/air_indoor_초등학교/Interpolated/ICW0W2000024.csv',\n",
       "  '../Grouped_Data/air_indoor_초등학교/Interpolated/ICW0W2000025.csv',\n",
       "  '../Grouped_Data/air_indoor_초등학교/Interpolated/ICW0W2000031.csv',\n",
       "  '../Grouped_Data/air_indoor_초등학교/Interpolated/ICW0W2000034.csv'])"
      ]
     },
     "execution_count": 3,
     "metadata": {},
     "output_type": "execute_result"
    }
   ],
   "source": [
    "get_csv_list('air_indoor_도서관',csv_list,new_address)\n",
    "get_csv_list('air_indoor_중학교',csv_list,new_address)\n",
    "get_csv_list('air_indoor_체육시설',csv_list,new_address)\n",
    "get_csv_list('air_indoor_초등학교',csv_list,new_address)"
   ]
  },
  {
   "cell_type": "markdown",
   "metadata": {},
   "source": [
    "## Interpolation 적용할 columm들 load"
   ]
  },
  {
   "cell_type": "code",
   "execution_count": 4,
   "metadata": {},
   "outputs": [],
   "source": [
    "def columm_all(address):\n",
    "    data=pd.read_csv(address)\n",
    "    \n",
    "    return data.columns"
   ]
  },
  {
   "cell_type": "code",
   "execution_count": 5,
   "metadata": {},
   "outputs": [
    {
     "name": "stdout",
     "output_type": "stream",
     "text": [
      "time_values = pd.to_numeric(file['time'])\n",
      "in_co2_values = pd.to_numeric(file['in_co2'])\n",
      "in_humi_values = pd.to_numeric(file['in_humi'])\n",
      "in_pm10_values = pd.to_numeric(file['in_pm10'])\n",
      "in_temp_values = pd.to_numeric(file['in_temp'])\n",
      "in_voc_values = pd.to_numeric(file['in_voc'])\n",
      "file['time']=time_values.interpolate(method='linear')\n",
      "file['in_co2']=in_co2_values.interpolate(method='linear')\n",
      "file['in_humi']=in_humi_values.interpolate(method='linear')\n",
      "file['in_pm10']=in_pm10_values.interpolate(method='linear')\n",
      "file['in_temp']=in_temp_values.interpolate(method='linear')\n",
      "file['in_voc']=in_voc_values.interpolate(method='linear')\n"
     ]
    }
   ],
   "source": [
    "columms1=columm_all(csv_list[0])\n",
    "\n",
    "for columm in columms1:\n",
    "    print(\"{:s}_values = pd.to_numeric(file['{:s}'])\".format(columm,columm))\n",
    "    \n",
    "for columm in columms1:\n",
    "    print(\"file['{:s}']={:s}_values.interpolate(method='linear')\".format(columm,columm))"
   ]
  },
  {
   "cell_type": "markdown",
   "metadata": {},
   "source": [
    "## Linear Interpolation 적용"
   ]
  },
  {
   "cell_type": "code",
   "execution_count": 6,
   "metadata": {},
   "outputs": [],
   "source": [
    "def Nan_interpolation(csv_file,new_directory):\n",
    "    \n",
    "    file = pd.read_csv(csv_file)\n",
    "\n",
    "    in_co2_values = pd.to_numeric(file['in_co2'])\n",
    "    in_humi_values = pd.to_numeric(file['in_humi'])\n",
    "    in_pm10_values = pd.to_numeric(file['in_pm10'])\n",
    "    in_temp_values = pd.to_numeric(file['in_temp'])\n",
    "    in_voc_values = pd.to_numeric(file['in_voc'])\n",
    "\n",
    "    file['in_co2']=in_co2_values.interpolate(method='linear')\n",
    "    file['in_humi']=in_humi_values.interpolate(method='linear')\n",
    "    file['in_pm10']=in_pm10_values.interpolate(method='linear')\n",
    "    file['in_temp']=in_temp_values.interpolate(method='linear')\n",
    "    file['in_voc']=in_voc_values.interpolate(method='linear')\n",
    "    \n",
    "    file.to_csv(new_directory, index=False)\n",
    "\n",
    "    return"
   ]
  },
  {
   "cell_type": "code",
   "execution_count": 7,
   "metadata": {},
   "outputs": [],
   "source": [
    "for csv_file, new_directory in zip(csv_list, new_address):\n",
    "    Nan_interpolation(csv_file,new_directory)"
   ]
  }
 ],
 "metadata": {
  "kernelspec": {
   "display_name": "d_linear",
   "language": "python",
   "name": "python3"
  },
  "language_info": {
   "codemirror_mode": {
    "name": "ipython",
    "version": 3
   },
   "file_extension": ".py",
   "mimetype": "text/x-python",
   "name": "python",
   "nbconvert_exporter": "python",
   "pygments_lexer": "ipython3",
   "version": "3.7.1"
  },
  "orig_nbformat": 4
 },
 "nbformat": 4,
 "nbformat_minor": 2
}
