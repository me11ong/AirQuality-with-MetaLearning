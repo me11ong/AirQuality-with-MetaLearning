{
 "cells": [
  {
   "cell_type": "markdown",
   "metadata": {},
   "source": [
    "# 이상치를 None(결측치)로 처리"
   ]
  },
  {
   "cell_type": "code",
   "execution_count": 1,
   "metadata": {},
   "outputs": [],
   "source": [
    "import pandas as pd\n",
    "import numpy as np\n",
    "import os"
   ]
  },
  {
   "cell_type": "markdown",
   "metadata": {},
   "source": [
    "## Grouping한 csv파일들 이름 load"
   ]
  },
  {
   "cell_type": "code",
   "execution_count": 2,
   "metadata": {},
   "outputs": [],
   "source": [
    "csv_list=[]\n",
    "new_address=[]\n",
    "\n",
    "def get_csv_list(db_name,csv_list,new_address):\n",
    "    list1=os.listdir(\"../RawData/{:s}/1hour\".format(db_name))\n",
    "    for i in range(len(list1)):\n",
    "        csv_list.append(\"../RawData/{:s}/1hour/{:s}\".format(db_name,list1[i]))\n",
    "        new_address.append(\"../Grouped_Data/{:s}/{:s}/{:s}\".format(db_name,'Missing_Value(All)',list1[i]))\n",
    "\n",
    "    return csv_list,new_address"
   ]
  },
  {
   "cell_type": "code",
   "execution_count": 3,
   "metadata": {},
   "outputs": [
    {
     "data": {
      "text/plain": [
       "(['../RawData/air_indoor_도서관/1hour/ICW0W2000087.csv',\n",
       "  '../RawData/air_indoor_도서관/1hour/ICW0W2000088.csv',\n",
       "  '../RawData/air_indoor_도서관/1hour/ICW0W2000089.csv',\n",
       "  '../RawData/air_indoor_도서관/1hour/ICW0W2000094.csv',\n",
       "  '../RawData/air_indoor_도서관/1hour/ICW0W2000095.csv',\n",
       "  '../RawData/air_indoor_도서관/1hour/ICW0W2000096.csv',\n",
       "  '../RawData/air_indoor_도서관/1hour/ICW0W2000097.csv',\n",
       "  '../RawData/air_indoor_도서관/1hour/ICW0W2000098.csv',\n",
       "  '../RawData/air_indoor_도서관/1hour/ICW0W2000099.csv',\n",
       "  '../RawData/air_indoor_도서관/1hour/ICW0W2000100.csv',\n",
       "  '../RawData/air_indoor_도서관/1hour/ICW0W2000101.csv',\n",
       "  '../RawData/air_indoor_도서관/1hour/ICW0W2000102.csv',\n",
       "  '../RawData/air_indoor_도서관/1hour/ICW0W2000108.csv',\n",
       "  '../RawData/air_indoor_도서관/1hour/ICW0W2000128.csv',\n",
       "  '../RawData/air_indoor_도서관/1hour/ICW0W2000129.csv',\n",
       "  '../RawData/air_indoor_중학교/1hour/ICW0W2000010.csv',\n",
       "  '../RawData/air_indoor_중학교/1hour/ICW0W2000011.csv',\n",
       "  '../RawData/air_indoor_중학교/1hour/ICW0W2000013.csv',\n",
       "  '../RawData/air_indoor_중학교/1hour/ICW0W2000014.csv',\n",
       "  '../RawData/air_indoor_중학교/1hour/ICW0W2000015.csv',\n",
       "  '../RawData/air_indoor_중학교/1hour/ICW0W2000018.csv',\n",
       "  '../RawData/air_indoor_중학교/1hour/ICW0W2000019.csv',\n",
       "  '../RawData/air_indoor_중학교/1hour/ICW0W2000020.csv',\n",
       "  '../RawData/air_indoor_체육시설/1hour/ICW0W2001036.csv',\n",
       "  '../RawData/air_indoor_체육시설/1hour/ICW0W2001037.csv',\n",
       "  '../RawData/air_indoor_체육시설/1hour/ICW0W2001043.csv',\n",
       "  '../RawData/air_indoor_체육시설/1hour/ICW0W2001044.csv',\n",
       "  '../RawData/air_indoor_초등학교/1hour/ICW0W2000022.csv',\n",
       "  '../RawData/air_indoor_초등학교/1hour/ICW0W2000023.csv',\n",
       "  '../RawData/air_indoor_초등학교/1hour/ICW0W2000024.csv',\n",
       "  '../RawData/air_indoor_초등학교/1hour/ICW0W2000025.csv',\n",
       "  '../RawData/air_indoor_초등학교/1hour/ICW0W2000031.csv',\n",
       "  '../RawData/air_indoor_초등학교/1hour/ICW0W2000034.csv'],\n",
       " ['../Grouped_Data/air_indoor_도서관/Missing_Value(All)/ICW0W2000087.csv',\n",
       "  '../Grouped_Data/air_indoor_도서관/Missing_Value(All)/ICW0W2000088.csv',\n",
       "  '../Grouped_Data/air_indoor_도서관/Missing_Value(All)/ICW0W2000089.csv',\n",
       "  '../Grouped_Data/air_indoor_도서관/Missing_Value(All)/ICW0W2000094.csv',\n",
       "  '../Grouped_Data/air_indoor_도서관/Missing_Value(All)/ICW0W2000095.csv',\n",
       "  '../Grouped_Data/air_indoor_도서관/Missing_Value(All)/ICW0W2000096.csv',\n",
       "  '../Grouped_Data/air_indoor_도서관/Missing_Value(All)/ICW0W2000097.csv',\n",
       "  '../Grouped_Data/air_indoor_도서관/Missing_Value(All)/ICW0W2000098.csv',\n",
       "  '../Grouped_Data/air_indoor_도서관/Missing_Value(All)/ICW0W2000099.csv',\n",
       "  '../Grouped_Data/air_indoor_도서관/Missing_Value(All)/ICW0W2000100.csv',\n",
       "  '../Grouped_Data/air_indoor_도서관/Missing_Value(All)/ICW0W2000101.csv',\n",
       "  '../Grouped_Data/air_indoor_도서관/Missing_Value(All)/ICW0W2000102.csv',\n",
       "  '../Grouped_Data/air_indoor_도서관/Missing_Value(All)/ICW0W2000108.csv',\n",
       "  '../Grouped_Data/air_indoor_도서관/Missing_Value(All)/ICW0W2000128.csv',\n",
       "  '../Grouped_Data/air_indoor_도서관/Missing_Value(All)/ICW0W2000129.csv',\n",
       "  '../Grouped_Data/air_indoor_중학교/Missing_Value(All)/ICW0W2000010.csv',\n",
       "  '../Grouped_Data/air_indoor_중학교/Missing_Value(All)/ICW0W2000011.csv',\n",
       "  '../Grouped_Data/air_indoor_중학교/Missing_Value(All)/ICW0W2000013.csv',\n",
       "  '../Grouped_Data/air_indoor_중학교/Missing_Value(All)/ICW0W2000014.csv',\n",
       "  '../Grouped_Data/air_indoor_중학교/Missing_Value(All)/ICW0W2000015.csv',\n",
       "  '../Grouped_Data/air_indoor_중학교/Missing_Value(All)/ICW0W2000018.csv',\n",
       "  '../Grouped_Data/air_indoor_중학교/Missing_Value(All)/ICW0W2000019.csv',\n",
       "  '../Grouped_Data/air_indoor_중학교/Missing_Value(All)/ICW0W2000020.csv',\n",
       "  '../Grouped_Data/air_indoor_체육시설/Missing_Value(All)/ICW0W2001036.csv',\n",
       "  '../Grouped_Data/air_indoor_체육시설/Missing_Value(All)/ICW0W2001037.csv',\n",
       "  '../Grouped_Data/air_indoor_체육시설/Missing_Value(All)/ICW0W2001043.csv',\n",
       "  '../Grouped_Data/air_indoor_체육시설/Missing_Value(All)/ICW0W2001044.csv',\n",
       "  '../Grouped_Data/air_indoor_초등학교/Missing_Value(All)/ICW0W2000022.csv',\n",
       "  '../Grouped_Data/air_indoor_초등학교/Missing_Value(All)/ICW0W2000023.csv',\n",
       "  '../Grouped_Data/air_indoor_초등학교/Missing_Value(All)/ICW0W2000024.csv',\n",
       "  '../Grouped_Data/air_indoor_초등학교/Missing_Value(All)/ICW0W2000025.csv',\n",
       "  '../Grouped_Data/air_indoor_초등학교/Missing_Value(All)/ICW0W2000031.csv',\n",
       "  '../Grouped_Data/air_indoor_초등학교/Missing_Value(All)/ICW0W2000034.csv'])"
      ]
     },
     "execution_count": 3,
     "metadata": {},
     "output_type": "execute_result"
    }
   ],
   "source": [
    "get_csv_list('air_indoor_도서관',csv_list,new_address)\n",
    "get_csv_list('air_indoor_중학교',csv_list,new_address)\n",
    "get_csv_list('air_indoor_체육시설',csv_list,new_address)\n",
    "get_csv_list('air_indoor_초등학교',csv_list,new_address)"
   ]
  },
  {
   "cell_type": "markdown",
   "metadata": {},
   "source": [
    "## 이상치를 none(결측치)로 처리하기"
   ]
  },
  {
   "cell_type": "code",
   "execution_count": 4,
   "metadata": {},
   "outputs": [],
   "source": [
    "def convert_to_None(address1,address2,whats,max_points):\n",
    "    \n",
    "    file=pd.read_csv(address1)\n",
    "    \n",
    "    for what, Max_Point in zip(whats, max_points):\n",
    "        file[what] = pd.to_numeric(file[what], errors='coerce')\n",
    "        file.loc[(file[what] > Max_Point) | (file[what] <= 0), what] = None\n",
    "    \n",
    "    file.to_csv(address2, index=False)\n",
    "    \n",
    "    return"
   ]
  },
  {
   "cell_type": "code",
   "execution_count": 5,
   "metadata": {},
   "outputs": [],
   "source": [
    "whats = ['in_co2', 'in_pm10', 'in_voc']\n",
    "max_points = [float(811.3333333333334), float(60.83527542372882), float(1665.0862499999998)]\n",
    "\n",
    "for address1, address2 in zip(csv_list, new_address):\n",
    "    convert_to_None(address1, address2, whats, max_points)\n"
   ]
  },
  {
   "cell_type": "markdown",
   "metadata": {},
   "source": [
    "## 누락된 시간행 탐색"
   ]
  },
  {
   "cell_type": "code",
   "execution_count": 6,
   "metadata": {},
   "outputs": [],
   "source": [
    "from dateutil.parser import parse\n",
    "\n",
    "def Nan_time_check(address):\n",
    "    file = pd.read_csv(address)\n",
    "\n",
    "    start_time=file['time'][0]\n",
    "    end_time=file['time'][len(file)-1]\n",
    "    \n",
    "    # 'time' 열을 datetime 형식으로 변환\n",
    "    file['time'] = file['time'].apply(lambda x: parse(x))\n",
    "\n",
    "    start_time = parse(start_time)\n",
    "    end_time = parse(end_time)\n",
    "\n",
    "    expected_rows = pd.DataFrame(pd.date_range(start=start_time, end=end_time, freq='1H'), columns=['time'])\n",
    "\n",
    "    missing_rows = expected_rows[~expected_rows['time'].isin(file['time'])]\n",
    "\n",
    "\n",
    "    return missing_rows"
   ]
  },
  {
   "cell_type": "markdown",
   "metadata": {},
   "source": [
    "## 누락된 시간행을 채워넣기"
   ]
  },
  {
   "cell_type": "code",
   "execution_count": 7,
   "metadata": {},
   "outputs": [],
   "source": [
    "def merge_and_sort_files(address):\n",
    "\n",
    "    file_Nan = pd.read_csv(address)\n",
    "    file_Nan = pd.DataFrame(file_Nan)\n",
    "    \n",
    "    missing_rows=Nan_time_check(address)\n",
    "    missing_rows=pd.DataFrame(missing_rows)\n",
    "\n",
    "    missing_rows['time']=None\n",
    "    missing_rows['in_co2']=None\n",
    "    missing_rows['in_humi']=None\n",
    "    missing_rows['in_pm10']=None\n",
    "    missing_rows['in_temp']=None\n",
    "    missing_rows['in_voc']=None\n",
    "    \n",
    "    merged_file = pd.concat([file_Nan, missing_rows])\n",
    "    merged_file['time'] = pd.to_datetime(merged_file['time'])\n",
    "    merged_file.sort_values('time', inplace=True)\n",
    "    merged_file.to_csv(address, index=False, header=True)\n",
    "    \n",
    "    return"
   ]
  },
  {
   "cell_type": "code",
   "execution_count": 8,
   "metadata": {},
   "outputs": [],
   "source": [
    "for address in new_address:\n",
    "    merge_and_sort_files(address)"
   ]
  }
 ],
 "metadata": {
  "kernelspec": {
   "display_name": "d_linear",
   "language": "python",
   "name": "python3"
  },
  "language_info": {
   "codemirror_mode": {
    "name": "ipython",
    "version": 3
   },
   "file_extension": ".py",
   "mimetype": "text/x-python",
   "name": "python",
   "nbconvert_exporter": "python",
   "pygments_lexer": "ipython3",
   "version": "3.7.1"
  },
  "orig_nbformat": 4
 },
 "nbformat": 4,
 "nbformat_minor": 2
}
