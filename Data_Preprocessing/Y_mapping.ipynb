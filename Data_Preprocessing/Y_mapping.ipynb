{
 "cells": [
  {
   "cell_type": "markdown",
   "metadata": {},
   "source": [
    "# 한시간 후의 PM10값을 Y값으로 Mapping"
   ]
  },
  {
   "cell_type": "code",
   "execution_count": 1,
   "metadata": {},
   "outputs": [],
   "source": [
    "import pandas as pd\n",
    "import os"
   ]
  },
  {
   "cell_type": "markdown",
   "metadata": {},
   "source": [
    "## 적용할 파일의 경로 load"
   ]
  },
  {
   "cell_type": "code",
   "execution_count": 2,
   "metadata": {},
   "outputs": [],
   "source": [
    "csv_list=[]\n",
    "new_addresses=[]\n",
    "\n",
    "def get_csv_list(db_name,csv_list,new_addresses):\n",
    "    list1=os.listdir(\"../Grouped_Data/{:s}/Interpolated/\".format(db_name))\n",
    "    \n",
    "    for file in list1:\n",
    "        csv_list.append(\"../Grouped_Data/{:s}/Interpolated/{:s}\".format(db_name,file))\n",
    "        new_addresses.append(\"../Grouped_Data/{:s}/Mapped/{:s}\".format(db_name,file))\n",
    "        \n",
    "    return csv_list,new_addresses"
   ]
  },
  {
   "cell_type": "code",
   "execution_count": 3,
   "metadata": {},
   "outputs": [
    {
     "data": {
      "text/plain": [
       "(['../Grouped_Data/air_indoor_도서관/Interpolated/ICW0W2000087.csv',\n",
       "  '../Grouped_Data/air_indoor_도서관/Interpolated/ICW0W2000088.csv',\n",
       "  '../Grouped_Data/air_indoor_도서관/Interpolated/ICW0W2000089.csv',\n",
       "  '../Grouped_Data/air_indoor_도서관/Interpolated/ICW0W2000094.csv',\n",
       "  '../Grouped_Data/air_indoor_도서관/Interpolated/ICW0W2000095.csv',\n",
       "  '../Grouped_Data/air_indoor_도서관/Interpolated/ICW0W2000096.csv',\n",
       "  '../Grouped_Data/air_indoor_도서관/Interpolated/ICW0W2000097.csv',\n",
       "  '../Grouped_Data/air_indoor_도서관/Interpolated/ICW0W2000098.csv',\n",
       "  '../Grouped_Data/air_indoor_도서관/Interpolated/ICW0W2000099.csv',\n",
       "  '../Grouped_Data/air_indoor_도서관/Interpolated/ICW0W2000100.csv',\n",
       "  '../Grouped_Data/air_indoor_도서관/Interpolated/ICW0W2000101.csv',\n",
       "  '../Grouped_Data/air_indoor_도서관/Interpolated/ICW0W2000102.csv',\n",
       "  '../Grouped_Data/air_indoor_도서관/Interpolated/ICW0W2000108.csv',\n",
       "  '../Grouped_Data/air_indoor_도서관/Interpolated/ICW0W2000128.csv',\n",
       "  '../Grouped_Data/air_indoor_도서관/Interpolated/ICW0W2000129.csv',\n",
       "  '../Grouped_Data/air_indoor_중학교/Interpolated/ICW0W2000010.csv',\n",
       "  '../Grouped_Data/air_indoor_중학교/Interpolated/ICW0W2000011.csv',\n",
       "  '../Grouped_Data/air_indoor_중학교/Interpolated/ICW0W2000013.csv',\n",
       "  '../Grouped_Data/air_indoor_중학교/Interpolated/ICW0W2000014.csv',\n",
       "  '../Grouped_Data/air_indoor_중학교/Interpolated/ICW0W2000015.csv',\n",
       "  '../Grouped_Data/air_indoor_중학교/Interpolated/ICW0W2000018.csv',\n",
       "  '../Grouped_Data/air_indoor_중학교/Interpolated/ICW0W2000019.csv',\n",
       "  '../Grouped_Data/air_indoor_중학교/Interpolated/ICW0W2000020.csv',\n",
       "  '../Grouped_Data/air_indoor_체육시설/Interpolated/ICW0W2001036.csv',\n",
       "  '../Grouped_Data/air_indoor_체육시설/Interpolated/ICW0W2001037.csv',\n",
       "  '../Grouped_Data/air_indoor_체육시설/Interpolated/ICW0W2001043.csv',\n",
       "  '../Grouped_Data/air_indoor_체육시설/Interpolated/ICW0W2001044.csv',\n",
       "  '../Grouped_Data/air_indoor_초등학교/Interpolated/ICW0W2000022.csv',\n",
       "  '../Grouped_Data/air_indoor_초등학교/Interpolated/ICW0W2000023.csv',\n",
       "  '../Grouped_Data/air_indoor_초등학교/Interpolated/ICW0W2000024.csv',\n",
       "  '../Grouped_Data/air_indoor_초등학교/Interpolated/ICW0W2000025.csv',\n",
       "  '../Grouped_Data/air_indoor_초등학교/Interpolated/ICW0W2000031.csv',\n",
       "  '../Grouped_Data/air_indoor_초등학교/Interpolated/ICW0W2000034.csv'],\n",
       " ['../Grouped_Data/air_indoor_도서관/Mapped/ICW0W2000087.csv',\n",
       "  '../Grouped_Data/air_indoor_도서관/Mapped/ICW0W2000088.csv',\n",
       "  '../Grouped_Data/air_indoor_도서관/Mapped/ICW0W2000089.csv',\n",
       "  '../Grouped_Data/air_indoor_도서관/Mapped/ICW0W2000094.csv',\n",
       "  '../Grouped_Data/air_indoor_도서관/Mapped/ICW0W2000095.csv',\n",
       "  '../Grouped_Data/air_indoor_도서관/Mapped/ICW0W2000096.csv',\n",
       "  '../Grouped_Data/air_indoor_도서관/Mapped/ICW0W2000097.csv',\n",
       "  '../Grouped_Data/air_indoor_도서관/Mapped/ICW0W2000098.csv',\n",
       "  '../Grouped_Data/air_indoor_도서관/Mapped/ICW0W2000099.csv',\n",
       "  '../Grouped_Data/air_indoor_도서관/Mapped/ICW0W2000100.csv',\n",
       "  '../Grouped_Data/air_indoor_도서관/Mapped/ICW0W2000101.csv',\n",
       "  '../Grouped_Data/air_indoor_도서관/Mapped/ICW0W2000102.csv',\n",
       "  '../Grouped_Data/air_indoor_도서관/Mapped/ICW0W2000108.csv',\n",
       "  '../Grouped_Data/air_indoor_도서관/Mapped/ICW0W2000128.csv',\n",
       "  '../Grouped_Data/air_indoor_도서관/Mapped/ICW0W2000129.csv',\n",
       "  '../Grouped_Data/air_indoor_중학교/Mapped/ICW0W2000010.csv',\n",
       "  '../Grouped_Data/air_indoor_중학교/Mapped/ICW0W2000011.csv',\n",
       "  '../Grouped_Data/air_indoor_중학교/Mapped/ICW0W2000013.csv',\n",
       "  '../Grouped_Data/air_indoor_중학교/Mapped/ICW0W2000014.csv',\n",
       "  '../Grouped_Data/air_indoor_중학교/Mapped/ICW0W2000015.csv',\n",
       "  '../Grouped_Data/air_indoor_중학교/Mapped/ICW0W2000018.csv',\n",
       "  '../Grouped_Data/air_indoor_중학교/Mapped/ICW0W2000019.csv',\n",
       "  '../Grouped_Data/air_indoor_중학교/Mapped/ICW0W2000020.csv',\n",
       "  '../Grouped_Data/air_indoor_체육시설/Mapped/ICW0W2001036.csv',\n",
       "  '../Grouped_Data/air_indoor_체육시설/Mapped/ICW0W2001037.csv',\n",
       "  '../Grouped_Data/air_indoor_체육시설/Mapped/ICW0W2001043.csv',\n",
       "  '../Grouped_Data/air_indoor_체육시설/Mapped/ICW0W2001044.csv',\n",
       "  '../Grouped_Data/air_indoor_초등학교/Mapped/ICW0W2000022.csv',\n",
       "  '../Grouped_Data/air_indoor_초등학교/Mapped/ICW0W2000023.csv',\n",
       "  '../Grouped_Data/air_indoor_초등학교/Mapped/ICW0W2000024.csv',\n",
       "  '../Grouped_Data/air_indoor_초등학교/Mapped/ICW0W2000025.csv',\n",
       "  '../Grouped_Data/air_indoor_초등학교/Mapped/ICW0W2000031.csv',\n",
       "  '../Grouped_Data/air_indoor_초등학교/Mapped/ICW0W2000034.csv'])"
      ]
     },
     "execution_count": 3,
     "metadata": {},
     "output_type": "execute_result"
    }
   ],
   "source": [
    "get_csv_list('air_indoor_도서관',csv_list,new_addresses)\n",
    "get_csv_list('air_indoor_중학교',csv_list,new_addresses)\n",
    "get_csv_list('air_indoor_체육시설',csv_list,new_addresses)\n",
    "get_csv_list('air_indoor_초등학교',csv_list,new_addresses)"
   ]
  },
  {
   "cell_type": "markdown",
   "metadata": {},
   "source": [
    "## Y값 Mapping"
   ]
  },
  {
   "cell_type": "code",
   "execution_count": 4,
   "metadata": {},
   "outputs": [],
   "source": [
    "def y_mapping(address,new_address):\n",
    "    file=pd.read_csv(address)\n",
    "    \n",
    "    pm_10_data = file['in_pm10']\n",
    "    new_row_data = [pm_10_data.iloc[i +1] if i + 1 < len(pm_10_data) else None for i in range(len(file))]\n",
    "    \n",
    "    file['Y_pm10'] = new_row_data\n",
    "    file = file.iloc[:-1]        \n",
    "    \n",
    "    file.to_csv(new_address, index=False, header=True)\n",
    "    \n",
    "    return"
   ]
  },
  {
   "cell_type": "code",
   "execution_count": 5,
   "metadata": {},
   "outputs": [],
   "source": [
    "for address,new_address in zip(csv_list,new_addresses):\n",
    "    y_mapping(address,new_address)"
   ]
  }
 ],
 "metadata": {
  "kernelspec": {
   "display_name": "d_linear",
   "language": "python",
   "name": "python3"
  },
  "language_info": {
   "codemirror_mode": {
    "name": "ipython",
    "version": 3
   },
   "file_extension": ".py",
   "mimetype": "text/x-python",
   "name": "python",
   "nbconvert_exporter": "python",
   "pygments_lexer": "ipython3",
   "version": "3.7.1"
  },
  "orig_nbformat": 4
 },
 "nbformat": 4,
 "nbformat_minor": 2
}
