{
 "cells": [
  {
   "cell_type": "markdown",
   "metadata": {},
   "source": [
    "# 이상치 처리 기준 산정 : 각 항목들의 사분위값 범위의 최대값 도출"
   ]
  },
  {
   "cell_type": "code",
   "execution_count": 1,
   "metadata": {},
   "outputs": [],
   "source": [
    "import pandas as pd\n",
    "import numpy as np\n",
    "import seaborn as sns\n",
    "from matplotlib import font_manager\n",
    "import matplotlib.pyplot as plt\n",
    "import os"
   ]
  },
  {
   "cell_type": "markdown",
   "metadata": {},
   "source": [
    "## Grouping한 csv파일들 이름 load"
   ]
  },
  {
   "cell_type": "code",
   "execution_count": 2,
   "metadata": {},
   "outputs": [],
   "source": [
    "csv_list1=[]\n",
    "csv_list2=[]\n",
    "csv_list3=[]\n",
    "csv_list4=[]\n",
    "\n",
    "def get_csv_list(db_name,csv_list):\n",
    "    list1=os.listdir(\"../RawData/\"+db_name+\"/1hour\")\n",
    "    for i in range(len(list1)):\n",
    "        list1[i]=\"../RawData/\"+db_name+\"/1hour/\"+list1[i]\n",
    "    csv_list+=list1\n",
    "    return csv_list"
   ]
  },
  {
   "cell_type": "code",
   "execution_count": 3,
   "metadata": {},
   "outputs": [],
   "source": [
    "csv_list1=get_csv_list('air_indoor_도서관',csv_list1)\n",
    "csv_list2=get_csv_list('air_indoor_중학교',csv_list2)\n",
    "csv_list3=get_csv_list('air_indoor_체육시설',csv_list3)\n",
    "csv_list4=get_csv_list('air_indoor_초등학교',csv_list4)"
   ]
  },
  {
   "cell_type": "code",
   "execution_count": 4,
   "metadata": {},
   "outputs": [
    {
     "name": "stdout",
     "output_type": "stream",
     "text": [
      "['../RawData/air_indoor_도서관/1hour/ICW0W2000087.csv', '../RawData/air_indoor_도서관/1hour/ICW0W2000088.csv', '../RawData/air_indoor_도서관/1hour/ICW0W2000089.csv', '../RawData/air_indoor_도서관/1hour/ICW0W2000094.csv', '../RawData/air_indoor_도서관/1hour/ICW0W2000095.csv', '../RawData/air_indoor_도서관/1hour/ICW0W2000096.csv', '../RawData/air_indoor_도서관/1hour/ICW0W2000097.csv', '../RawData/air_indoor_도서관/1hour/ICW0W2000098.csv', '../RawData/air_indoor_도서관/1hour/ICW0W2000099.csv', '../RawData/air_indoor_도서관/1hour/ICW0W2000100.csv', '../RawData/air_indoor_도서관/1hour/ICW0W2000101.csv', '../RawData/air_indoor_도서관/1hour/ICW0W2000102.csv', '../RawData/air_indoor_도서관/1hour/ICW0W2000108.csv', '../RawData/air_indoor_도서관/1hour/ICW0W2000128.csv', '../RawData/air_indoor_도서관/1hour/ICW0W2000129.csv']\n",
      "['../RawData/air_indoor_중학교/1hour/ICW0W2000010.csv', '../RawData/air_indoor_중학교/1hour/ICW0W2000011.csv', '../RawData/air_indoor_중학교/1hour/ICW0W2000013.csv', '../RawData/air_indoor_중학교/1hour/ICW0W2000014.csv', '../RawData/air_indoor_중학교/1hour/ICW0W2000015.csv', '../RawData/air_indoor_중학교/1hour/ICW0W2000018.csv', '../RawData/air_indoor_중학교/1hour/ICW0W2000019.csv', '../RawData/air_indoor_중학교/1hour/ICW0W2000020.csv']\n"
     ]
    }
   ],
   "source": [
    "print(csv_list1)\n",
    "print(csv_list2)"
   ]
  },
  {
   "cell_type": "markdown",
   "metadata": {},
   "source": [
    "## concatenate를 실행하여 시설별 데이터를 하나의 파일로 병합"
   ]
  },
  {
   "cell_type": "code",
   "execution_count": 5,
   "metadata": {},
   "outputs": [],
   "source": [
    "def concat_all(db_name,csv_list):\n",
    "    data=pd.DataFrame()\n",
    "    \n",
    "    for csv_file in csv_list:\n",
    "        file=pd.read_csv(csv_file)\n",
    "        file=pd.DataFrame(file)\n",
    "        \n",
    "        data=pd.concat([data,file])\n",
    "        \n",
    "    data.to_csv(\"../RawData/All_Grouped({:s}).csv\".format(db_name),index=False)\n",
    "    \n",
    "    return data.columns"
   ]
  },
  {
   "cell_type": "code",
   "execution_count": 6,
   "metadata": {},
   "outputs": [],
   "source": [
    "columms1=concat_all('air_indoor_도서관',csv_list1)\n",
    "columms2=concat_all('air_indoor_중학교',csv_list2)\n",
    "columms3=concat_all('air_indoor_체육시설',csv_list3)\n",
    "columms4=concat_all('air_indoor_초등학교',csv_list4)"
   ]
  },
  {
   "cell_type": "code",
   "execution_count": 7,
   "metadata": {},
   "outputs": [
    {
     "name": "stdout",
     "output_type": "stream",
     "text": [
      "Index(['time', 'in_co2', 'in_humi', 'in_pm10', 'in_temp', 'in_voc'], dtype='object')\n",
      "time_values = pd.to_numeric(file['time'])\n",
      "in_co2_values = pd.to_numeric(file['in_co2'])\n",
      "in_humi_values = pd.to_numeric(file['in_humi'])\n",
      "in_pm10_values = pd.to_numeric(file['in_pm10'])\n",
      "in_temp_values = pd.to_numeric(file['in_temp'])\n",
      "in_voc_values = pd.to_numeric(file['in_voc'])\n"
     ]
    }
   ],
   "source": [
    "print(columms1)\n",
    "\n",
    "for columm in columms1:\n",
    "    print(\"{:s}_values = pd.to_numeric(file['{:s}'])\".format(columm,columm))"
   ]
  },
  {
   "cell_type": "markdown",
   "metadata": {},
   "source": [
    "## 병합된 각 파일들로 부터 사분위 범위 최대/최소값 계산"
   ]
  },
  {
   "cell_type": "code",
   "execution_count": 8,
   "metadata": {},
   "outputs": [],
   "source": [
    "in_co2_lower=[]\n",
    "in_pm10_lower=[]\n",
    "in_voc_lower=[]\n",
    "\n",
    "in_co2_upper=[]\n",
    "in_pm10_upper=[]\n",
    "in_voc_upper=[]"
   ]
  },
  {
   "cell_type": "code",
   "execution_count": 9,
   "metadata": {},
   "outputs": [],
   "source": [
    "font_path = \"./NanumGothicBold.ttf\"\n",
    "fontprop = font_manager.FontProperties(fname=font_path)\n",
    "\n",
    "def get_boxplot_all(db_name,what,list1,list2):\n",
    "    address = \"../RawData/All_Grouped({:s}).csv\".format(db_name)\n",
    "    file = pd.read_csv(address)\n",
    "\n",
    "    name = pd.to_numeric(file[what], errors='coerce')\n",
    "\n",
    "    \n",
    "    # Calculate Q1, Q3, and IQR\n",
    "    Q1 = np.percentile(name.dropna(), 25)\n",
    "    Q3 = np.percentile(name.dropna(), 75)\n",
    "    IQR = Q3 - Q1\n",
    "\n",
    "    # Calculate lower and upper bound\n",
    "    lower_bound = Q1 - 1.5 * IQR\n",
    "    upper_bound = Q3 + 1.5 * IQR\n",
    "\n",
    "    fig, ax = plt.subplots(figsize=(24, 24))\n",
    "    sns.set_theme(style='whitegrid')\n",
    "    sns.boxplot(data=name.dropna(), ax=ax)\n",
    "    ax.set_title('The Distribution of ' + what, fontproperties=fontprop,fontsize=30,fontweight=1000)\n",
    "    #ax.set_ylim(-10, 100)\n",
    "    #plt.yticks((-10,0,10,20,30,40,50,60,70,80,90,100),fontsize=24,fontweight=\"bold\")\n",
    "    \n",
    "    # Add text for lower and upper bound\n",
    "    ax.text(0.02, lower_bound, f'Lower Bound: {lower_bound:.2f}', color='red',fontsize=36,fontweight=\"bold\")\n",
    "    ax.text(0.02, upper_bound, f'Upper Bound: {upper_bound:.2f}', color='red',fontsize=36,fontweight=\"bold\")\n",
    "    \n",
    "    list1.append(lower_bound)\n",
    "    list2.append(upper_bound)\n",
    "    \n",
    "    plt.savefig(\"../IQR/IQR({:s},{:s}).png\".format(db_name,what))\n",
    "    plt.close()\n",
    "    \n",
    "    return "
   ]
  },
  {
   "cell_type": "code",
   "execution_count": 10,
   "metadata": {},
   "outputs": [],
   "source": [
    "db_names=['air_indoor_도서관','air_indoor_중학교','air_indoor_체육시설','air_indoor_초등학교']\n",
    "whats=['in_co2', 'in_pm10',  'in_voc']\n",
    "\n",
    "list_lower=[in_co2_lower,in_pm10_lower,in_voc_lower]\n",
    "list_upper=[in_co2_upper,in_pm10_upper,in_voc_upper]\n",
    "\n",
    "for db_name in db_names:\n",
    "    i=0\n",
    "    for what in whats:\n",
    "        get_boxplot_all(db_name,what,list_lower[i],list_upper[i])\n",
    "        i+=1\n"
   ]
  },
  {
   "cell_type": "markdown",
   "metadata": {},
   "source": [
    "#### 결과 : in_co2(811.33), in_pm10(60.84), in_voc(1665.09)"
   ]
  },
  {
   "cell_type": "code",
   "execution_count": 11,
   "metadata": {},
   "outputs": [
    {
     "name": "stdout",
     "output_type": "stream",
     "text": [
      "in_co2 :  811.3333333333334\n",
      "in_pm10 :  60.83527542372882\n",
      "in_voc :  1665.0862499999998\n"
     ]
    }
   ],
   "source": [
    "print(\"in_co2 : \",max(in_co2_upper))\n",
    "print(\"in_pm10 : \",max(in_pm10_upper))\n",
    "print(\"in_voc : \",max(in_voc_upper))"
   ]
  }
 ],
 "metadata": {
  "kernelspec": {
   "display_name": "d_linear",
   "language": "python",
   "name": "python3"
  },
  "language_info": {
   "codemirror_mode": {
    "name": "ipython",
    "version": 3
   },
   "file_extension": ".py",
   "mimetype": "text/x-python",
   "name": "python",
   "nbconvert_exporter": "python",
   "pygments_lexer": "ipython3",
   "version": "3.7.1"
  },
  "orig_nbformat": 4
 },
 "nbformat": 4,
 "nbformat_minor": 2
}
